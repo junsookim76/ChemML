{
  "nbformat": 4,
  "nbformat_minor": 0,
  "metadata": {
    "colab": {
      "name": "RDKIT_Tutorial.ipynb",
      "provenance": [],
      "authorship_tag": "ABX9TyPqdMe4dkyalgzcRk4y9PN4",
      "include_colab_link": true
    },
    "kernelspec": {
      "name": "python3",
      "display_name": "Python 3"
    },
    "language_info": {
      "name": "python"
    }
  },
  "cells": [
    {
      "cell_type": "markdown",
      "metadata": {
        "id": "view-in-github",
        "colab_type": "text"
      },
      "source": [
        "<a href=\"https://colab.research.google.com/github/junsookim76/ChemML/blob/main/RDKIT_Tutorial.ipynb\" target=\"_parent\"><img src=\"https://colab.research.google.com/assets/colab-badge.svg\" alt=\"Open In Colab\"/></a>"
      ]
    },
    {
      "cell_type": "code",
      "metadata": {
        "colab": {
          "base_uri": "https://localhost:8080/"
        },
        "id": "fb8PsdCtAbOY",
        "outputId": "8979f05a-9fb5-4560-d6d3-5815d86df537"
      },
      "source": [
        "!wget -c https://repo.continuum.io/miniconda/Miniconda3-latest-Linux-x86_64.sh -q\n",
        "!chmod +x Miniconda3-latest-Linux-x86_64.sh\n",
        "!bash ./Miniconda3-latest-Linux-x86_64.sh -b -f -p /usr/local &>/dev/null\n",
        "!conda install -q -y -c rdkit rdkit python=3.7\n",
        "!pip install -q mordred seaborn\n",
        "%matplotlib inline\n",
        "import sys\n",
        "import os\n",
        "sys.path.append('/usr/local/lib/python3.7/site-packages/')\n",
        "from mordred import Calculator, descriptors\n",
        "from rdkit import Chem\n",
        "from rdkit.Chem.Draw import IPythonConsole\n",
        "from rdkit.Chem import Draw\n",
        "import numpy as np\n",
        "import pandas as pd\n",
        "import matplotlib.pyplot as plt\n",
        "import seaborn as sns\n",
        "from sklearn.pipeline import make_pipeline\n",
        "from sklearn.preprocessing import QuantileTransformer\n",
        "from sklearn.neural_network import MLPRegressor\n",
        "from sklearn.model_selection import train_test_split\n",
        "IPythonConsole.ipython_useSVG=True"
      ],
      "execution_count": 2,
      "outputs": [
        {
          "output_type": "stream",
          "name": "stdout",
          "text": [
            "Collecting package metadata (current_repodata.json): ...working... done\n",
            "Solving environment: ...working... done\n",
            "\n",
            "## Package Plan ##\n",
            "\n",
            "  environment location: /usr/local\n",
            "\n",
            "  added / updated specs:\n",
            "    - python=3.7\n",
            "    - rdkit\n",
            "\n",
            "\n",
            "The following packages will be downloaded:\n",
            "\n",
            "    package                    |            build\n",
            "    ---------------------------|-----------------\n",
            "    blas-1.0                   |              mkl           6 KB\n",
            "    bottleneck-1.3.2           |   py37heb32a55_1         125 KB\n",
            "    brotlipy-0.7.0             |py37h27cfd23_1003         320 KB\n",
            "    bzip2-1.0.8                |       h7b6447c_0          78 KB\n",
            "    ca-certificates-2021.10.26 |       h06a4308_2         115 KB\n",
            "    cairo-1.16.0               |       hf32fb01_1         1.0 MB\n",
            "    certifi-2021.10.8          |   py37h06a4308_0         151 KB\n",
            "    cffi-1.14.6                |   py37h400218f_0         223 KB\n",
            "    chardet-4.0.0              |py37h06a4308_1003         195 KB\n",
            "    conda-4.10.3               |   py37h06a4308_0         2.9 MB\n",
            "    conda-package-handling-1.7.3|   py37h27cfd23_1         881 KB\n",
            "    cryptography-35.0.0        |   py37hd23ed53_0         1.3 MB\n",
            "    fontconfig-2.13.1          |       h6c09931_0         250 KB\n",
            "    freetype-2.11.0            |       h70c0345_0         618 KB\n",
            "    giflib-5.2.1               |       h7b6447c_0          78 KB\n",
            "    glib-2.69.1                |       h5202010_0         1.7 MB\n",
            "    icu-58.2                   |       he6710b0_3        10.5 MB\n",
            "    intel-openmp-2021.4.0      |    h06a4308_3561         4.2 MB\n",
            "    jpeg-9d                    |       h7f8727e_0         232 KB\n",
            "    lcms2-2.12                 |       h3be6417_0         312 KB\n",
            "    libboost-1.73.0            |      h3ff78a5_11        13.9 MB\n",
            "    libpng-1.6.37              |       hbc83047_0         278 KB\n",
            "    libtiff-4.2.0              |       h85742a9_0         502 KB\n",
            "    libuuid-1.0.3              |       h7f8727e_2          17 KB\n",
            "    libwebp-1.2.0              |       h89dd481_0         493 KB\n",
            "    libwebp-base-1.2.0         |       h27cfd23_0         437 KB\n",
            "    libxcb-1.14                |       h7b6447c_0         505 KB\n",
            "    libxml2-2.9.12             |       h03d6c58_0         1.2 MB\n",
            "    lz4-c-1.9.3                |       h295c915_1         185 KB\n",
            "    mkl-2021.4.0               |     h06a4308_640       142.6 MB\n",
            "    mkl-service-2.4.0          |   py37h7f8727e_0          56 KB\n",
            "    mkl_fft-1.3.1              |   py37hd3c417c_0         172 KB\n",
            "    mkl_random-1.2.2           |   py37h51133e4_0         287 KB\n",
            "    numexpr-2.7.3              |   py37h22e1b3c_1         188 KB\n",
            "    numpy-1.21.2               |   py37h20f2e39_0          23 KB\n",
            "    numpy-base-1.21.2          |   py37h79a1101_0         4.8 MB\n",
            "    olefile-0.46               |           py37_0          50 KB\n",
            "    openssl-1.1.1l             |       h7f8727e_0         2.5 MB\n",
            "    pandas-1.3.4               |   py37h8c16a72_0         9.2 MB\n",
            "    pcre-8.45                  |       h295c915_0         207 KB\n",
            "    pillow-8.4.0               |   py37h5aabda8_0         644 KB\n",
            "    pip-21.2.2                 |   py37h06a4308_0         1.8 MB\n",
            "    pixman-0.40.0              |       h7f8727e_1         373 KB\n",
            "    py-boost-1.73.0            |  py37ha9443f7_11         204 KB\n",
            "    pycosat-0.6.3              |   py37h27cfd23_0          81 KB\n",
            "    pysocks-1.7.1              |           py37_1          27 KB\n",
            "    python-3.7.11              |       h12debd9_0        45.3 MB\n",
            "    python-dateutil-2.8.2      |     pyhd3eb1b0_0         233 KB\n",
            "    pytz-2021.3                |     pyhd3eb1b0_0         171 KB\n",
            "    rdkit-2020.09.1.0          |   py37hd50e099_1        25.8 MB  rdkit\n",
            "    ruamel_yaml-0.15.100       |   py37h27cfd23_0         253 KB\n",
            "    setuptools-58.0.4          |   py37h06a4308_0         775 KB\n",
            "    zstd-1.4.9                 |       haebb681_0         480 KB\n",
            "    ------------------------------------------------------------\n",
            "                                           Total:       278.7 MB\n",
            "\n",
            "The following NEW packages will be INSTALLED:\n",
            "\n",
            "  blas               pkgs/main/linux-64::blas-1.0-mkl\n",
            "  bottleneck         pkgs/main/linux-64::bottleneck-1.3.2-py37heb32a55_1\n",
            "  bzip2              pkgs/main/linux-64::bzip2-1.0.8-h7b6447c_0\n",
            "  cairo              pkgs/main/linux-64::cairo-1.16.0-hf32fb01_1\n",
            "  fontconfig         pkgs/main/linux-64::fontconfig-2.13.1-h6c09931_0\n",
            "  freetype           pkgs/main/linux-64::freetype-2.11.0-h70c0345_0\n",
            "  giflib             pkgs/main/linux-64::giflib-5.2.1-h7b6447c_0\n",
            "  glib               pkgs/main/linux-64::glib-2.69.1-h5202010_0\n",
            "  icu                pkgs/main/linux-64::icu-58.2-he6710b0_3\n",
            "  intel-openmp       pkgs/main/linux-64::intel-openmp-2021.4.0-h06a4308_3561\n",
            "  jpeg               pkgs/main/linux-64::jpeg-9d-h7f8727e_0\n",
            "  lcms2              pkgs/main/linux-64::lcms2-2.12-h3be6417_0\n",
            "  libboost           pkgs/main/linux-64::libboost-1.73.0-h3ff78a5_11\n",
            "  libpng             pkgs/main/linux-64::libpng-1.6.37-hbc83047_0\n",
            "  libtiff            pkgs/main/linux-64::libtiff-4.2.0-h85742a9_0\n",
            "  libuuid            pkgs/main/linux-64::libuuid-1.0.3-h7f8727e_2\n",
            "  libwebp            pkgs/main/linux-64::libwebp-1.2.0-h89dd481_0\n",
            "  libwebp-base       pkgs/main/linux-64::libwebp-base-1.2.0-h27cfd23_0\n",
            "  libxcb             pkgs/main/linux-64::libxcb-1.14-h7b6447c_0\n",
            "  libxml2            pkgs/main/linux-64::libxml2-2.9.12-h03d6c58_0\n",
            "  lz4-c              pkgs/main/linux-64::lz4-c-1.9.3-h295c915_1\n",
            "  mkl                pkgs/main/linux-64::mkl-2021.4.0-h06a4308_640\n",
            "  mkl-service        pkgs/main/linux-64::mkl-service-2.4.0-py37h7f8727e_0\n",
            "  mkl_fft            pkgs/main/linux-64::mkl_fft-1.3.1-py37hd3c417c_0\n",
            "  mkl_random         pkgs/main/linux-64::mkl_random-1.2.2-py37h51133e4_0\n",
            "  numexpr            pkgs/main/linux-64::numexpr-2.7.3-py37h22e1b3c_1\n",
            "  numpy              pkgs/main/linux-64::numpy-1.21.2-py37h20f2e39_0\n",
            "  numpy-base         pkgs/main/linux-64::numpy-base-1.21.2-py37h79a1101_0\n",
            "  olefile            pkgs/main/linux-64::olefile-0.46-py37_0\n",
            "  pandas             pkgs/main/linux-64::pandas-1.3.4-py37h8c16a72_0\n",
            "  pcre               pkgs/main/linux-64::pcre-8.45-h295c915_0\n",
            "  pillow             pkgs/main/linux-64::pillow-8.4.0-py37h5aabda8_0\n",
            "  pixman             pkgs/main/linux-64::pixman-0.40.0-h7f8727e_1\n",
            "  py-boost           pkgs/main/linux-64::py-boost-1.73.0-py37ha9443f7_11\n",
            "  python-dateutil    pkgs/main/noarch::python-dateutil-2.8.2-pyhd3eb1b0_0\n",
            "  pytz               pkgs/main/noarch::pytz-2021.3-pyhd3eb1b0_0\n",
            "  rdkit              rdkit/linux-64::rdkit-2020.09.1.0-py37hd50e099_1\n",
            "  zstd               pkgs/main/linux-64::zstd-1.4.9-haebb681_0\n",
            "\n",
            "The following packages will be UPDATED:\n",
            "\n",
            "  ca-certificates                       2021.7.5-h06a4308_1 --> 2021.10.26-h06a4308_2\n",
            "  certifi                          2021.5.30-py39h06a4308_0 --> 2021.10.8-py37h06a4308_0\n",
            "  cryptography                         3.4.7-py39hd23ed53_0 --> 35.0.0-py37hd23ed53_0\n",
            "  openssl                                 1.1.1k-h27cfd23_0 --> 1.1.1l-h7f8727e_0\n",
            "  pip                                 21.1.3-py39h06a4308_0 --> 21.2.2-py37h06a4308_0\n",
            "  pysocks                              1.7.1-py39h06a4308_0 --> 1.7.1-py37_1\n",
            "  setuptools                          52.0.0-py39h06a4308_0 --> 58.0.4-py37h06a4308_0\n",
            "\n",
            "The following packages will be DOWNGRADED:\n",
            "\n",
            "  brotlipy                          0.7.0-py39h27cfd23_1003 --> 0.7.0-py37h27cfd23_1003\n",
            "  cffi                                1.14.6-py39h400218f_0 --> 1.14.6-py37h400218f_0\n",
            "  chardet                           4.0.0-py39h06a4308_1003 --> 4.0.0-py37h06a4308_1003\n",
            "  conda                               4.10.3-py39h06a4308_0 --> 4.10.3-py37h06a4308_0\n",
            "  conda-package-han~                   1.7.3-py39h27cfd23_1 --> 1.7.3-py37h27cfd23_1\n",
            "  pycosat                              0.6.3-py39h27cfd23_0 --> 0.6.3-py37h27cfd23_0\n",
            "  python                                   3.9.5-h12debd9_4 --> 3.7.11-h12debd9_0\n",
            "  ruamel_yaml                       0.15.100-py39h27cfd23_0 --> 0.15.100-py37h27cfd23_0\n",
            "\n",
            "\n",
            "Preparing transaction: ...working... done\n",
            "Verifying transaction: ...working... done\n",
            "Executing transaction: ...working... done\n",
            "\u001b[K     |████████████████████████████████| 128 kB 8.7 MB/s \n",
            "\u001b[K     |████████████████████████████████| 292 kB 51.7 MB/s \n",
            "\u001b[K     |████████████████████████████████| 1.9 MB 52.9 MB/s \n",
            "\u001b[K     |████████████████████████████████| 11.2 MB 52.5 MB/s \n",
            "\u001b[K     |████████████████████████████████| 38.2 MB 19 kB/s \n",
            "\u001b[K     |████████████████████████████████| 97 kB 6.1 MB/s \n",
            "\u001b[K     |████████████████████████████████| 1.1 MB 31.8 MB/s \n",
            "\u001b[K     |████████████████████████████████| 873 kB 38.9 MB/s \n",
            "\u001b[K     |████████████████████████████████| 40 kB 6.3 MB/s \n",
            "\u001b[?25h  Building wheel for mordred (setup.py) ... \u001b[?25l\u001b[?25hdone\n",
            "\u001b[33mWARNING: Running pip as the 'root' user can result in broken permissions and conflicting behaviour with the system package manager. It is recommended to use a virtual environment instead: https://pip.pypa.io/warnings/venv\u001b[0m\n"
          ]
        }
      ]
    },
    {
      "cell_type": "code",
      "metadata": {
        "colab": {
          "base_uri": "https://localhost:8080/"
        },
        "id": "OwZXn7leAQdD",
        "outputId": "bb02c383-3ca8-4f94-a73a-88cdee29b91a"
      },
      "source": [
        "import time\n",
        "print(time.asctime()) # doctest: IGNORE"
      ],
      "execution_count": 3,
      "outputs": [
        {
          "output_type": "stream",
          "name": "stdout",
          "text": [
            "Sun Nov 21 22:56:43 2021\n"
          ]
        }
      ]
    },
    {
      "cell_type": "markdown",
      "metadata": {
        "id": "VrpdEloONkvC"
      },
      "source": [
        "# Working with SMILES\n",
        "### If you have a SMILES string, the easiest thing to use is MolFromSmiles:"
      ]
    },
    {
      "cell_type": "code",
      "metadata": {
        "colab": {
          "base_uri": "https://localhost:8080/",
          "height": 171
        },
        "id": "zy4qTniEC7kT",
        "outputId": "7c6c98b6-db5a-43fb-de59-8cd9b2dcbd99"
      },
      "source": [
        "m = Chem.MolFromSmiles('COc1ccc2c(c1)[nH]c(n2)[S@@](=O)Cc1ncc(c(c1C)OC)C')\n",
        "m"
      ],
      "execution_count": 4,
      "outputs": [
        {
          "output_type": "execute_result",
          "data": {
            "image/png": "[encoded data removed]",
            "text/plain": [
              "<rdkit.Chem.rdchem.Mol at 0x7f95bddfa620>"
            ],
            "image/svg+xml": "<?xml version='1.0' encoding='iso-8859-1'?>\n<svg version='1.1' baseProfile='full'\n              xmlns='http://www.w3.org/2000/svg'\n                      xmlns:rdkit='http://www.rdkit.org/xml'\n                      xmlns:xlink='http://www.w3.org/1999/xlink'\n                  xml:space='preserve'\nwidth='450px' height='150px' viewBox='0 0 450 150'>\n<!-- END OF HEADER -->\n<rect style='opacity:1.0;fill:#FFFFFF;stroke:none' width='450' height='150' x='0' y='0'> </rect>\n<path class='bond-0' d='M 26.5034,91.9445 L 39.9614,99.6742' style='fill:none;fill-rule:evenodd;stroke:#000000;stroke-width:2.0px;stroke-linecap:butt;stroke-linejoin:miter;stroke-opacity:1' />\n<path class='bond-0' d='M 39.9614,99.6742 L 53.4193,107.404' style='fill:none;fill-rule:evenodd;stroke:#FF0000;stroke-width:2.0px;stroke-linecap:butt;stroke-linejoin:miter;stroke-opacity:1' />\n<path class='bond-1' d='M 65.1359,107.369 L 78.5514,99.583' style='fill:none;fill-rule:evenodd;stroke:#FF0000;stroke-width:2.0px;stroke-linecap:butt;stroke-linejoin:miter;stroke-opacity:1' />\n<path class='bond-1' d='M 78.5514,99.583 L 91.9668,91.7973' style='fill:none;fill-rule:evenodd;stroke:#000000;stroke-width:2.0px;stroke-linecap:butt;stroke-linejoin:miter;stroke-opacity:1' />\n<path class='bond-2' d='M 91.9668,91.7973 L 91.8818,54.002' style='fill:none;fill-rule:evenodd;stroke:#000000;stroke-width:2.0px;stroke-linecap:butt;stroke-linejoin:miter;stroke-opacity:1' />\n<path class='bond-2' d='M 99.5131,86.111 L 99.4536,59.6543' style='fill:none;fill-rule:evenodd;stroke:#000000;stroke-width:2.0px;stroke-linecap:butt;stroke-linejoin:miter;stroke-opacity:1' />\n<path class='bond-23' d='M 91.9668,91.7973 L 124.741,110.621' style='fill:none;fill-rule:evenodd;stroke:#000000;stroke-width:2.0px;stroke-linecap:butt;stroke-linejoin:miter;stroke-opacity:1' />\n<path class='bond-3' d='M 91.8818,54.002 L 124.571,35.0307' style='fill:none;fill-rule:evenodd;stroke:#000000;stroke-width:2.0px;stroke-linecap:butt;stroke-linejoin:miter;stroke-opacity:1' />\n<path class='bond-4' d='M 124.571,35.0307 L 157.345,53.8547' style='fill:none;fill-rule:evenodd;stroke:#000000;stroke-width:2.0px;stroke-linecap:butt;stroke-linejoin:miter;stroke-opacity:1' />\n<path class='bond-4' d='M 125.722,44.4091 L 148.664,57.586' style='fill:none;fill-rule:evenodd;stroke:#000000;stroke-width:2.0px;stroke-linecap:butt;stroke-linejoin:miter;stroke-opacity:1' />\n<path class='bond-5' d='M 157.345,53.8547 L 157.43,91.65' style='fill:none;fill-rule:evenodd;stroke:#000000;stroke-width:2.0px;stroke-linecap:butt;stroke-linejoin:miter;stroke-opacity:1' />\n<path class='bond-25' d='M 157.345,53.8547 L 172.803,48.7938' style='fill:none;fill-rule:evenodd;stroke:#000000;stroke-width:2.0px;stroke-linecap:butt;stroke-linejoin:miter;stroke-opacity:1' />\n<path class='bond-25' d='M 172.803,48.7938 L 188.26,43.7329' style='fill:none;fill-rule:evenodd;stroke:#0000FF;stroke-width:2.0px;stroke-linecap:butt;stroke-linejoin:miter;stroke-opacity:1' />\n<path class='bond-6' d='M 157.43,91.65 L 124.741,110.621' style='fill:none;fill-rule:evenodd;stroke:#000000;stroke-width:2.0px;stroke-linecap:butt;stroke-linejoin:miter;stroke-opacity:1' />\n<path class='bond-6' d='M 148.733,87.9579 L 125.85,101.238' style='fill:none;fill-rule:evenodd;stroke:#000000;stroke-width:2.0px;stroke-linecap:butt;stroke-linejoin:miter;stroke-opacity:1' />\n<path class='bond-7' d='M 157.43,91.65 L 172.914,96.6426' style='fill:none;fill-rule:evenodd;stroke:#000000;stroke-width:2.0px;stroke-linecap:butt;stroke-linejoin:miter;stroke-opacity:1' />\n<path class='bond-7' d='M 172.914,96.6426 L 188.398,101.635' style='fill:none;fill-rule:evenodd;stroke:#0000FF;stroke-width:2.0px;stroke-linecap:butt;stroke-linejoin:miter;stroke-opacity:1' />\n<path class='bond-8' d='M 197.955,96.9519 L 206.752,84.7867' style='fill:none;fill-rule:evenodd;stroke:#0000FF;stroke-width:2.0px;stroke-linecap:butt;stroke-linejoin:miter;stroke-opacity:1' />\n<path class='bond-8' d='M 206.752,84.7867 L 215.549,72.6216' style='fill:none;fill-rule:evenodd;stroke:#000000;stroke-width:2.0px;stroke-linecap:butt;stroke-linejoin:miter;stroke-opacity:1' />\n<path class='bond-9' d='M 215.549,72.6216 L 206.705,60.5064' style='fill:none;fill-rule:evenodd;stroke:#000000;stroke-width:2.0px;stroke-linecap:butt;stroke-linejoin:miter;stroke-opacity:1' />\n<path class='bond-9' d='M 206.705,60.5064 L 197.861,48.3912' style='fill:none;fill-rule:evenodd;stroke:#0000FF;stroke-width:2.0px;stroke-linecap:butt;stroke-linejoin:miter;stroke-opacity:1' />\n<path class='bond-9' d='M 206.79,73.4439 L 200.599,64.9633' style='fill:none;fill-rule:evenodd;stroke:#000000;stroke-width:2.0px;stroke-linecap:butt;stroke-linejoin:miter;stroke-opacity:1' />\n<path class='bond-9' d='M 200.599,64.9633 L 194.409,56.4826' style='fill:none;fill-rule:evenodd;stroke:#0000FF;stroke-width:2.0px;stroke-linecap:butt;stroke-linejoin:miter;stroke-opacity:1' />\n<path class='bond-10' d='M 215.549,72.6216 L 232.258,72.584' style='fill:none;fill-rule:evenodd;stroke:#000000;stroke-width:2.0px;stroke-linecap:butt;stroke-linejoin:miter;stroke-opacity:1' />\n<path class='bond-10' d='M 232.258,72.584 L 248.967,72.5464' style='fill:none;fill-rule:evenodd;stroke:#CCCC00;stroke-width:2.0px;stroke-linecap:butt;stroke-linejoin:miter;stroke-opacity:1' />\n<path class='bond-11' d='M 260.229,68.1374 L 266.016,58.0623' style='fill:none;fill-rule:evenodd;stroke:#CCCC00;stroke-width:2.0px;stroke-linecap:butt;stroke-linejoin:miter;stroke-opacity:1' />\n<path class='bond-11' d='M 266.016,58.0623 L 271.803,47.9872' style='fill:none;fill-rule:evenodd;stroke:#FF0000;stroke-width:2.0px;stroke-linecap:butt;stroke-linejoin:miter;stroke-opacity:1' />\n<path class='bond-11' d='M 253.675,64.3726 L 259.461,54.2975' style='fill:none;fill-rule:evenodd;stroke:#CCCC00;stroke-width:2.0px;stroke-linecap:butt;stroke-linejoin:miter;stroke-opacity:1' />\n<path class='bond-11' d='M 259.461,54.2975 L 265.248,44.2224' style='fill:none;fill-rule:evenodd;stroke:#FF0000;stroke-width:2.0px;stroke-linecap:butt;stroke-linejoin:miter;stroke-opacity:1' />\n<path class='bond-12' d='M 257.156,79.1054 L 263.101,93.1142 L 266.37,91.217 Z' style='fill:#CCCC00;fill-rule:evenodd;fill-opacity:1;stroke:#CCCC00;stroke-width:2px;stroke-linecap:butt;stroke-linejoin:miter;stroke-opacity:1;' />\n<path class='bond-12' d='M 263.101,93.1142 L 275.584,103.329 L 269.046,107.123 Z' style='fill:#000000;fill-rule:evenodd;fill-opacity:1;stroke:#000000;stroke-width:2px;stroke-linecap:butt;stroke-linejoin:miter;stroke-opacity:1;' />\n<path class='bond-12' d='M 263.101,93.1142 L 266.37,91.217 L 275.584,103.329 Z' style='fill:#000000;fill-rule:evenodd;fill-opacity:1;stroke:#000000;stroke-width:2px;stroke-linecap:butt;stroke-linejoin:miter;stroke-opacity:1;' />\n<path class='bond-13' d='M 272.315,105.226 L 310.111,105.141' style='fill:none;fill-rule:evenodd;stroke:#000000;stroke-width:2.0px;stroke-linecap:butt;stroke-linejoin:miter;stroke-opacity:1' />\n<path class='bond-14' d='M 310.111,105.141 L 317.769,118.337' style='fill:none;fill-rule:evenodd;stroke:#000000;stroke-width:2.0px;stroke-linecap:butt;stroke-linejoin:miter;stroke-opacity:1' />\n<path class='bond-14' d='M 317.769,118.337 L 325.428,131.533' style='fill:none;fill-rule:evenodd;stroke:#0000FF;stroke-width:2.0px;stroke-linecap:butt;stroke-linejoin:miter;stroke-opacity:1' />\n<path class='bond-14' d='M 318.946,105.305 L 324.307,114.543' style='fill:none;fill-rule:evenodd;stroke:#000000;stroke-width:2.0px;stroke-linecap:butt;stroke-linejoin:miter;stroke-opacity:1' />\n<path class='bond-14' d='M 324.307,114.543 L 329.668,123.78' style='fill:none;fill-rule:evenodd;stroke:#0000FF;stroke-width:2.0px;stroke-linecap:butt;stroke-linejoin:miter;stroke-opacity:1' />\n<path class='bond-24' d='M 310.111,105.141 L 328.935,72.3666' style='fill:none;fill-rule:evenodd;stroke:#000000;stroke-width:2.0px;stroke-linecap:butt;stroke-linejoin:miter;stroke-opacity:1' />\n<path class='bond-15' d='M 334.086,137.819 L 350.482,137.782' style='fill:none;fill-rule:evenodd;stroke:#0000FF;stroke-width:2.0px;stroke-linecap:butt;stroke-linejoin:miter;stroke-opacity:1' />\n<path class='bond-15' d='M 350.482,137.782 L 366.877,137.745' style='fill:none;fill-rule:evenodd;stroke:#000000;stroke-width:2.0px;stroke-linecap:butt;stroke-linejoin:miter;stroke-opacity:1' />\n<path class='bond-16' d='M 366.877,137.745 L 385.701,104.971' style='fill:none;fill-rule:evenodd;stroke:#000000;stroke-width:2.0px;stroke-linecap:butt;stroke-linejoin:miter;stroke-opacity:1' />\n<path class='bond-16' d='M 363.146,129.064 L 376.323,106.122' style='fill:none;fill-rule:evenodd;stroke:#000000;stroke-width:2.0px;stroke-linecap:butt;stroke-linejoin:miter;stroke-opacity:1' />\n<path class='bond-17' d='M 385.701,104.971 L 366.73,72.2816' style='fill:none;fill-rule:evenodd;stroke:#000000;stroke-width:2.0px;stroke-linecap:butt;stroke-linejoin:miter;stroke-opacity:1' />\n<path class='bond-22' d='M 385.701,104.971 L 423.497,104.886' style='fill:none;fill-rule:evenodd;stroke:#000000;stroke-width:2.0px;stroke-linecap:butt;stroke-linejoin:miter;stroke-opacity:1' />\n<path class='bond-18' d='M 366.73,72.2816 L 328.935,72.3666' style='fill:none;fill-rule:evenodd;stroke:#000000;stroke-width:2.0px;stroke-linecap:butt;stroke-linejoin:miter;stroke-opacity:1' />\n<path class='bond-18' d='M 361.078,79.8534 L 334.621,79.9129' style='fill:none;fill-rule:evenodd;stroke:#000000;stroke-width:2.0px;stroke-linecap:butt;stroke-linejoin:miter;stroke-opacity:1' />\n<path class='bond-20' d='M 366.73,72.2816 L 374.269,59.1562' style='fill:none;fill-rule:evenodd;stroke:#000000;stroke-width:2.0px;stroke-linecap:butt;stroke-linejoin:miter;stroke-opacity:1' />\n<path class='bond-20' d='M 374.269,59.1562 L 381.807,46.0309' style='fill:none;fill-rule:evenodd;stroke:#FF0000;stroke-width:2.0px;stroke-linecap:butt;stroke-linejoin:miter;stroke-opacity:1' />\n<path class='bond-19' d='M 328.935,72.3666 L 309.963,39.6774' style='fill:none;fill-rule:evenodd;stroke:#000000;stroke-width:2.0px;stroke-linecap:butt;stroke-linejoin:miter;stroke-opacity:1' />\n<path class='bond-21' d='M 381.865,33.1502 L 374.224,19.9842' style='fill:none;fill-rule:evenodd;stroke:#FF0000;stroke-width:2.0px;stroke-linecap:butt;stroke-linejoin:miter;stroke-opacity:1' />\n<path class='bond-21' d='M 374.224,19.9842 L 366.583,6.81818' style='fill:none;fill-rule:evenodd;stroke:#000000;stroke-width:2.0px;stroke-linecap:butt;stroke-linejoin:miter;stroke-opacity:1' />\n<path  class='atom-1' d='M 54.3642 110.799\nQ 54.3642 108.229, 55.6342 106.792\nQ 56.9041 105.356, 59.2776 105.356\nQ 61.6512 105.356, 62.9211 106.792\nQ 64.191 108.229, 64.191 110.799\nQ 64.191 113.399, 62.906 114.881\nQ 61.6209 116.347, 59.2776 116.347\nQ 56.9192 116.347, 55.6342 114.881\nQ 54.3642 113.414, 54.3642 110.799\nM 59.2776 115.138\nQ 60.9104 115.138, 61.7872 114.049\nQ 62.6792 112.946, 62.6792 110.799\nQ 62.6792 108.697, 61.7872 107.639\nQ 60.9104 106.566, 59.2776 106.566\nQ 57.6449 106.566, 56.7529 107.624\nQ 55.876 108.682, 55.876 110.799\nQ 55.876 112.961, 56.7529 114.049\nQ 57.6449 115.138, 59.2776 115.138\n' fill='#FF0000'/>\n<path  class='atom-8' d='M 191.036 97.8968\nL 194.543 103.566\nQ 194.891 104.125, 195.45 105.138\nQ 196.01 106.151, 196.04 106.212\nL 196.04 97.8968\nL 197.461 97.8968\nL 197.461 108.6\nL 195.995 108.6\nL 192.23 102.402\nQ 191.792 101.676, 191.323 100.845\nQ 190.87 100.013, 190.734 99.7563\nL 190.734 108.6\nL 189.343 108.6\nL 189.343 97.8968\nL 191.036 97.8968\n' fill='#0000FF'/>\n<path  class='atom-8' d='M 189.214 109.671\nL 190.666 109.671\nL 190.666 114.221\nL 196.138 114.221\nL 196.138 109.671\nL 197.59 109.671\nL 197.59 120.374\nL 196.138 120.374\nL 196.138 115.431\nL 190.666 115.431\nL 190.666 120.374\nL 189.214 120.374\nL 189.214 109.671\n' fill='#0000FF'/>\n<path  class='atom-10' d='M 190.898 36.7427\nL 194.406 42.412\nQ 194.754 42.9714, 195.313 43.9843\nQ 195.872 44.9972, 195.903 45.0577\nL 195.903 36.7427\nL 197.324 36.7427\nL 197.324 47.4463\nL 195.857 47.4463\nL 192.093 41.2479\nQ 191.654 40.5222, 191.186 39.6907\nQ 190.732 38.8592, 190.596 38.6022\nL 190.596 47.4463\nL 189.205 47.4463\nL 189.205 36.7427\nL 190.898 36.7427\n' fill='#0000FF'/>\n<path  class='atom-11' d='M 250.32 76.2103\nQ 250.441 76.2557, 250.94 76.4673\nQ 251.439 76.679, 251.983 76.815\nQ 252.543 76.936, 253.087 76.936\nQ 254.1 76.936, 254.69 76.4522\nQ 255.279 75.9533, 255.279 75.0916\nQ 255.279 74.5019, 254.977 74.1391\nQ 254.69 73.7763, 254.236 73.5797\nQ 253.782 73.3832, 253.027 73.1564\nQ 252.074 72.8692, 251.5 72.5971\nQ 250.94 72.3249, 250.532 71.7504\nQ 250.139 71.176, 250.139 70.2084\nQ 250.139 68.8629, 251.046 68.0314\nQ 251.968 67.1999, 253.782 67.1999\nQ 255.022 67.1999, 256.428 67.7895\nL 256.08 68.9536\nQ 254.795 68.4244, 253.828 68.4244\nQ 252.785 68.4244, 252.21 68.8629\nQ 251.636 69.2862, 251.651 70.027\nQ 251.651 70.6015, 251.938 70.9492\nQ 252.24 71.2969, 252.664 71.4934\nQ 253.102 71.69, 253.828 71.9167\nQ 254.795 72.2191, 255.37 72.5215\nQ 255.944 72.8238, 256.353 73.4437\nQ 256.776 74.0484, 256.776 75.0916\nQ 256.776 76.5731, 255.778 77.3744\nQ 254.795 78.1605, 253.148 78.1605\nQ 252.195 78.1605, 251.469 77.9489\nQ 250.759 77.7524, 249.912 77.4046\nL 250.32 76.2103\n' fill='#CCCC00'/>\n<path  class='atom-12' d='M 267.255 39.7926\nQ 267.255 37.2225, 268.525 35.7863\nQ 269.795 34.3501, 272.168 34.3501\nQ 274.542 34.3501, 275.812 35.7863\nQ 277.081 37.2225, 277.081 39.7926\nQ 277.081 42.3929, 275.796 43.8745\nQ 274.511 45.341, 272.168 45.341\nQ 269.81 45.341, 268.525 43.8745\nQ 267.255 42.4081, 267.255 39.7926\nM 272.168 44.1315\nQ 273.801 44.1315, 274.678 43.043\nQ 275.57 41.9394, 275.57 39.7926\nQ 275.57 37.6912, 274.678 36.6329\nQ 273.801 35.5595, 272.168 35.5595\nQ 270.535 35.5595, 269.643 36.6178\nQ 268.767 37.6761, 268.767 39.7926\nQ 268.767 41.9545, 269.643 43.043\nQ 270.535 44.1315, 272.168 44.1315\n' fill='#FF0000'/>\n<path  class='atom-15' d='M 326.716 132.478\nL 330.223 138.147\nQ 330.571 138.707, 331.13 139.72\nQ 331.69 140.733, 331.72 140.793\nL 331.72 132.478\nL 333.141 132.478\nL 333.141 143.182\nL 331.675 143.182\nL 327.91 136.983\nQ 327.472 136.258, 327.003 135.426\nQ 326.55 134.595, 326.414 134.338\nL 326.414 143.182\nL 325.023 143.182\nL 325.023 132.478\nL 326.716 132.478\n' fill='#0000FF'/>\n<path  class='atom-21' d='M 380.641 39.5376\nQ 380.641 36.9675, 381.911 35.5313\nQ 383.18 34.0951, 385.554 34.0951\nQ 387.928 34.0951, 389.198 35.5313\nQ 390.467 36.9675, 390.467 39.5376\nQ 390.467 42.1379, 389.182 43.6195\nQ 387.897 45.086, 385.554 45.086\nQ 383.196 45.086, 381.911 43.6195\nQ 380.641 42.1531, 380.641 39.5376\nM 385.554 43.8765\nQ 387.187 43.8765, 388.064 42.788\nQ 388.956 41.6844, 388.956 39.5376\nQ 388.956 37.4362, 388.064 36.3779\nQ 387.187 35.3045, 385.554 35.3045\nQ 383.921 35.3045, 383.029 36.3628\nQ 382.152 37.4211, 382.152 39.5376\nQ 382.152 41.6995, 383.029 42.788\nQ 383.921 43.8765, 385.554 43.8765\n' fill='#FF0000'/>\n</svg>\n"
          },
          "metadata": {},
          "execution_count": 4
        }
      ]
    },
    {
      "cell_type": "markdown",
      "metadata": {
        "id": "7CgRcRS7mnpt"
      },
      "source": [
        "### An atom is represented using its respective atomic symbol. Upper case letters refer to non-aromatic atoms; lower case letters refer to aromatic atoms. -\tSingle bond. =\tDouble bond. #\tTriple bond. *\tAromatic bond. .\tDisconnected structures."
      ]
    },
    {
      "cell_type": "markdown",
      "metadata": {
        "id": "jjfZsG7Ps89N"
      },
      "source": [
        "### The structures that are entered using SMILES are hydrogen-suppressed, that is to say that the molecules are represented without hydrogens. The SMILES software understands the number of possible connections that an atom can have. If enough bonds are not identified by the user through SMILES notation, the system will automatically assume that the other connections are satisfied by hydrogen bonds."
      ]
    },
    {
      "cell_type": "code",
      "metadata": {
        "colab": {
          "base_uri": "https://localhost:8080/",
          "height": 171
        },
        "id": "1TI2f6-hNqiE",
        "outputId": "b9947d62-974c-40e7-a52d-8ff21ec81816"
      },
      "source": [
        "m1 = Chem.MolFromSmiles('CC')\n",
        "m2 = Chem.MolFromSmiles('C=C')\n",
        "m3 = Chem.MolFromSmiles('C#N')\n",
        "m1"
      ],
      "execution_count": 12,
      "outputs": [
        {
          "output_type": "execute_result",
          "data": {
            "image/png": "[encoded data removed]",
            "text/plain": [
              "<rdkit.Chem.rdchem.Mol at 0x7f95bddfa120>"
            ],
            "image/svg+xml": "<?xml version='1.0' encoding='iso-8859-1'?>\n<svg version='1.1' baseProfile='full'\n              xmlns='http://www.w3.org/2000/svg'\n                      xmlns:rdkit='http://www.rdkit.org/xml'\n                      xmlns:xlink='http://www.w3.org/1999/xlink'\n                  xml:space='preserve'\nwidth='450px' height='150px' viewBox='0 0 450 150'>\n<!-- END OF HEADER -->\n<rect style='opacity:1.0;fill:#FFFFFF;stroke:none' width='450' height='150' x='0' y='0'> </rect>\n<path class='bond-0' d='M 173.864,75 L 276.136,75' style='fill:none;fill-rule:evenodd;stroke:#000000;stroke-width:2.0px;stroke-linecap:butt;stroke-linejoin:miter;stroke-opacity:1' />\n</svg>\n"
          },
          "metadata": {},
          "execution_count": 12
        }
      ]
    },
    {
      "cell_type": "markdown",
      "metadata": {
        "id": "YZMPuzVOuWXs"
      },
      "source": [
        "### A branch from a chain is specified by placing the SMILES symbol(s) for the branch between parenthesis. The string in parentheses is placed directly after the symbol for the atom to which it is connected. If it is connected by a double or triple bond, the bond symbol immediately follows the left parenthesis. Some examples:"
      ]
    },
    {
      "cell_type": "code",
      "metadata": {
        "colab": {
          "base_uri": "https://localhost:8080/",
          "height": 171
        },
        "id": "4cxFGIKCtZsu",
        "outputId": "c1566ead-01c6-4154-d8ed-395be6b22fdf"
      },
      "source": [
        "m1 = Chem.MolFromSmiles('CC(O)C')\n",
        "m2 = Chem.MolFromSmiles('CC(=O)C')\n",
        "m3 = Chem.MolFromSmiles('CC(CC)C')\n",
        "m4 = Chem.MolFromSmiles('CC(C)CC(=O)')\n",
        "m5 = Chem.MolFromSmiles('c1c(N(=O)=O)cccc1')\n",
        "m6 = Chem.MolFromSmiles('CC(C)(C)CC')\n",
        "m5"
      ],
      "execution_count": 19,
      "outputs": [
        {
          "output_type": "execute_result",
          "data": {
            "image/png": "[encoded data removed]",
            "text/plain": [
              "<rdkit.Chem.rdchem.Mol at 0x7f95bdb41a30>"
            ],
            "image/svg+xml": "<?xml version='1.0' encoding='iso-8859-1'?>\n<svg version='1.1' baseProfile='full'\n              xmlns='http://www.w3.org/2000/svg'\n                      xmlns:rdkit='http://www.rdkit.org/xml'\n                      xmlns:xlink='http://www.w3.org/1999/xlink'\n                  xml:space='preserve'\nwidth='450px' height='150px' viewBox='0 0 450 150'>\n<!-- END OF HEADER -->\n<rect style='opacity:1.0;fill:#FFFFFF;stroke:none' width='450' height='150' x='0' y='0'> </rect>\n<path class='bond-0' d='M 246.235,133.232 L 212.529,74.8517' style='fill:none;fill-rule:evenodd;stroke:#000000;stroke-width:2.0px;stroke-linecap:butt;stroke-linejoin:miter;stroke-opacity:1' />\n<path class='bond-0' d='M 252.855,117.734 L 229.261,76.8676' style='fill:none;fill-rule:evenodd;stroke:#000000;stroke-width:2.0px;stroke-linecap:butt;stroke-linejoin:miter;stroke-opacity:1' />\n<path class='bond-8' d='M 246.235,133.232 L 313.646,133.232' style='fill:none;fill-rule:evenodd;stroke:#000000;stroke-width:2.0px;stroke-linecap:butt;stroke-linejoin:miter;stroke-opacity:1' />\n<path class='bond-1' d='M 212.529,74.8517 L 188.242,74.8517' style='fill:none;fill-rule:evenodd;stroke:#000000;stroke-width:2.0px;stroke-linecap:butt;stroke-linejoin:miter;stroke-opacity:1' />\n<path class='bond-1' d='M 188.242,74.8517 L 163.955,74.8517' style='fill:none;fill-rule:evenodd;stroke:#0000FF;stroke-width:2.0px;stroke-linecap:butt;stroke-linejoin:miter;stroke-opacity:1' />\n<path class='bond-4' d='M 212.529,74.8517 L 246.235,16.4715' style='fill:none;fill-rule:evenodd;stroke:#000000;stroke-width:2.0px;stroke-linecap:butt;stroke-linejoin:miter;stroke-opacity:1' />\n<path class='bond-2' d='M 138.633,63.6209 L 128.288,45.7017' style='fill:none;fill-rule:evenodd;stroke:#0000FF;stroke-width:2.0px;stroke-linecap:butt;stroke-linejoin:miter;stroke-opacity:1' />\n<path class='bond-2' d='M 128.288,45.7017 L 117.942,27.7826' style='fill:none;fill-rule:evenodd;stroke:#FF0000;stroke-width:2.0px;stroke-linecap:butt;stroke-linejoin:miter;stroke-opacity:1' />\n<path class='bond-3' d='M 132.795,82.7119 L 122.364,100.779' style='fill:none;fill-rule:evenodd;stroke:#0000FF;stroke-width:2.0px;stroke-linecap:butt;stroke-linejoin:miter;stroke-opacity:1' />\n<path class='bond-3' d='M 122.364,100.779 L 111.933,118.847' style='fill:none;fill-rule:evenodd;stroke:#FF0000;stroke-width:2.0px;stroke-linecap:butt;stroke-linejoin:miter;stroke-opacity:1' />\n<path class='bond-3' d='M 144.471,89.453 L 134.04,107.521' style='fill:none;fill-rule:evenodd;stroke:#0000FF;stroke-width:2.0px;stroke-linecap:butt;stroke-linejoin:miter;stroke-opacity:1' />\n<path class='bond-3' d='M 134.04,107.521 L 123.609,125.588' style='fill:none;fill-rule:evenodd;stroke:#FF0000;stroke-width:2.0px;stroke-linecap:butt;stroke-linejoin:miter;stroke-opacity:1' />\n<path class='bond-5' d='M 246.235,16.4715 L 313.646,16.4715' style='fill:none;fill-rule:evenodd;stroke:#000000;stroke-width:2.0px;stroke-linecap:butt;stroke-linejoin:miter;stroke-opacity:1' />\n<path class='bond-5' d='M 256.346,29.9538 L 303.535,29.9538' style='fill:none;fill-rule:evenodd;stroke:#000000;stroke-width:2.0px;stroke-linecap:butt;stroke-linejoin:miter;stroke-opacity:1' />\n<path class='bond-6' d='M 313.646,16.4715 L 347.352,74.8517' style='fill:none;fill-rule:evenodd;stroke:#000000;stroke-width:2.0px;stroke-linecap:butt;stroke-linejoin:miter;stroke-opacity:1' />\n<path class='bond-7' d='M 347.352,74.8517 L 313.646,133.232' style='fill:none;fill-rule:evenodd;stroke:#000000;stroke-width:2.0px;stroke-linecap:butt;stroke-linejoin:miter;stroke-opacity:1' />\n<path class='bond-7' d='M 330.62,76.8676 L 307.026,117.734' style='fill:none;fill-rule:evenodd;stroke:#000000;stroke-width:2.0px;stroke-linecap:butt;stroke-linejoin:miter;stroke-opacity:1' />\n<path  class='atom-2' d='M 140.897 65.3062\nL 147.153 75.418\nQ 147.773 76.4156, 148.771 78.2223\nQ 149.769 80.0289, 149.823 80.1368\nL 149.823 65.3062\nL 152.357 65.3062\nL 152.357 84.3972\nL 149.742 84.3972\nL 143.027 73.3417\nQ 142.246 72.0474, 141.41 70.5643\nQ 140.601 69.0813, 140.358 68.6229\nL 140.358 84.3972\nL 137.877 84.3972\nL 137.877 65.3062\nL 140.897 65.3062\n' fill='#0000FF'/>\n<path  class='atom-2' d='M 153.959 68.7474\nL 157.323 68.7474\nL 157.323 65.2059\nL 158.817 65.2059\nL 158.817 68.7474\nL 162.27 68.7474\nL 162.27 70.0288\nL 158.817 70.0288\nL 158.817 73.5881\nL 157.323 73.5881\nL 157.323 70.0288\nL 153.959 70.0288\nL 153.959 68.7474\n' fill='#0000FF'/>\n<path  class='atom-3' d='M 102.648 16.5255\nQ 102.648 11.9415, 104.913 9.37982\nQ 107.178 6.81818, 111.411 6.81818\nQ 115.645 6.81818, 117.91 9.37982\nQ 120.175 11.9415, 120.175 16.5255\nQ 120.175 21.1634, 117.883 23.8059\nQ 115.591 26.4215, 111.411 26.4215\nQ 107.205 26.4215, 104.913 23.8059\nQ 102.648 21.1903, 102.648 16.5255\nM 111.411 24.2643\nQ 114.324 24.2643, 115.888 22.3229\nQ 117.478 20.3544, 117.478 16.5255\nQ 117.478 12.7774, 115.888 10.8898\nQ 114.324 8.97535, 111.411 8.97535\nQ 108.499 8.97535, 106.908 10.8629\nQ 105.344 12.7504, 105.344 16.5255\nQ 105.344 20.3814, 106.908 22.3229\nQ 108.499 24.2643, 111.411 24.2643\n' fill='#FF0000'/>\n<path  class='atom-3' d='M 121.065 9.93422\nL 127.596 9.93422\nL 127.596 11.3579\nL 121.065 11.3579\nL 121.065 9.93422\n' fill='#FF0000'/>\n<path  class='atom-4' d='M 102.648 133.286\nQ 102.648 128.702, 104.913 126.14\nQ 107.178 123.579, 111.411 123.579\nQ 115.645 123.579, 117.91 126.14\nQ 120.175 128.702, 120.175 133.286\nQ 120.175 137.924, 117.883 140.566\nQ 115.591 143.182, 111.411 143.182\nQ 107.205 143.182, 104.913 140.566\nQ 102.648 137.951, 102.648 133.286\nM 111.411 141.025\nQ 114.324 141.025, 115.888 139.083\nQ 117.478 137.115, 117.478 133.286\nQ 117.478 129.538, 115.888 127.65\nQ 114.324 125.736, 111.411 125.736\nQ 108.499 125.736, 106.908 127.623\nQ 105.344 129.511, 105.344 133.286\nQ 105.344 137.142, 106.908 139.083\nQ 108.499 141.025, 111.411 141.025\n' fill='#FF0000'/>\n</svg>\n"
          },
          "metadata": {},
          "execution_count": 19
        }
      ]
    },
    {
      "cell_type": "markdown",
      "metadata": {
        "id": "iIroCe2DxIWV"
      },
      "source": [
        "### SMILES allows a user to identify ring structures by using numbers to identify the opening and closing ring atom. For example, in C1CCCCC1, the first carbon has a number '1' which connects by a single bond with the last carbon which also has a number '1'. The resulting structure is cyclohexane. Chemicals that have multiple rings may be identified by using different numbers for each ring. If a double, single, or aromatic bond is used for the ring closure, the bond symbol is placed before the ring closure number. Some examples:"
      ]
    },
    {
      "cell_type": "code",
      "metadata": {
        "colab": {
          "base_uri": "https://localhost:8080/",
          "height": 171
        },
        "id": "rDhbocFEuFdh",
        "outputId": "c54c6e67-a047-4313-a8c8-1c25d8d1b080"
      },
      "source": [
        "m1 = Chem.MolFromSmiles('C=1CCCCC1')\n",
        "m2 = Chem.MolFromSmiles('c1ccccc1')\n",
        "m3 = Chem.MolFromSmiles('C1OC1CC')\n",
        "m4 = Chem.MolFromSmiles('c1cc2ccccc2cc1')\n",
        "m5 = Chem.MolFromSmiles('c1c2ccccc2ccc1')\n",
        "m4"
      ],
      "execution_count": 30,
      "outputs": [
        {
          "output_type": "execute_result",
          "data": {
            "image/png": "[encoded data removed]",
            "text/plain": [
              "<rdkit.Chem.rdchem.Mol at 0x7f95bda8e490>"
            ],
            "image/svg+xml": "<?xml version='1.0' encoding='iso-8859-1'?>\n<svg version='1.1' baseProfile='full'\n              xmlns='http://www.w3.org/2000/svg'\n                      xmlns:rdkit='http://www.rdkit.org/xml'\n                      xmlns:xlink='http://www.w3.org/1999/xlink'\n                  xml:space='preserve'\nwidth='450px' height='150px' viewBox='0 0 450 150'>\n<!-- END OF HEADER -->\n<rect style='opacity:1.0;fill:#FFFFFF;stroke:none' width='450' height='150' x='0' y='0'> </rect>\n<path class='bond-0' d='M 343.094,109.091 L 284.047,143.182' style='fill:none;fill-rule:evenodd;stroke:#000000;stroke-width:2.0px;stroke-linecap:butt;stroke-linejoin:miter;stroke-opacity:1' />\n<path class='bond-0' d='M 327.419,102.395 L 286.086,126.259' style='fill:none;fill-rule:evenodd;stroke:#000000;stroke-width:2.0px;stroke-linecap:butt;stroke-linejoin:miter;stroke-opacity:1' />\n<path class='bond-9' d='M 343.094,109.091 L 343.094,40.9091' style='fill:none;fill-rule:evenodd;stroke:#000000;stroke-width:2.0px;stroke-linecap:butt;stroke-linejoin:miter;stroke-opacity:1' />\n<path class='bond-1' d='M 284.047,143.182 L 225,109.091' style='fill:none;fill-rule:evenodd;stroke:#000000;stroke-width:2.0px;stroke-linecap:butt;stroke-linejoin:miter;stroke-opacity:1' />\n<path class='bond-2' d='M 225,109.091 L 165.953,143.182' style='fill:none;fill-rule:evenodd;stroke:#000000;stroke-width:2.0px;stroke-linecap:butt;stroke-linejoin:miter;stroke-opacity:1' />\n<path class='bond-2' d='M 209.325,102.395 L 167.992,126.259' style='fill:none;fill-rule:evenodd;stroke:#000000;stroke-width:2.0px;stroke-linecap:butt;stroke-linejoin:miter;stroke-opacity:1' />\n<path class='bond-10' d='M 225,109.091 L 225,40.9091' style='fill:none;fill-rule:evenodd;stroke:#000000;stroke-width:2.0px;stroke-linecap:butt;stroke-linejoin:miter;stroke-opacity:1' />\n<path class='bond-3' d='M 165.953,143.182 L 106.906,109.091' style='fill:none;fill-rule:evenodd;stroke:#000000;stroke-width:2.0px;stroke-linecap:butt;stroke-linejoin:miter;stroke-opacity:1' />\n<path class='bond-4' d='M 106.906,109.091 L 106.906,40.9091' style='fill:none;fill-rule:evenodd;stroke:#000000;stroke-width:2.0px;stroke-linecap:butt;stroke-linejoin:miter;stroke-opacity:1' />\n<path class='bond-4' d='M 120.542,98.8636 L 120.542,51.1364' style='fill:none;fill-rule:evenodd;stroke:#000000;stroke-width:2.0px;stroke-linecap:butt;stroke-linejoin:miter;stroke-opacity:1' />\n<path class='bond-5' d='M 106.906,40.9091 L 165.953,6.81818' style='fill:none;fill-rule:evenodd;stroke:#000000;stroke-width:2.0px;stroke-linecap:butt;stroke-linejoin:miter;stroke-opacity:1' />\n<path class='bond-6' d='M 165.953,6.81818 L 225,40.9091' style='fill:none;fill-rule:evenodd;stroke:#000000;stroke-width:2.0px;stroke-linecap:butt;stroke-linejoin:miter;stroke-opacity:1' />\n<path class='bond-6' d='M 167.992,23.7413 L 209.325,47.6049' style='fill:none;fill-rule:evenodd;stroke:#000000;stroke-width:2.0px;stroke-linecap:butt;stroke-linejoin:miter;stroke-opacity:1' />\n<path class='bond-7' d='M 225,40.9091 L 284.047,6.81818' style='fill:none;fill-rule:evenodd;stroke:#000000;stroke-width:2.0px;stroke-linecap:butt;stroke-linejoin:miter;stroke-opacity:1' />\n<path class='bond-8' d='M 284.047,6.81818 L 343.094,40.9091' style='fill:none;fill-rule:evenodd;stroke:#000000;stroke-width:2.0px;stroke-linecap:butt;stroke-linejoin:miter;stroke-opacity:1' />\n<path class='bond-8' d='M 286.086,23.7413 L 327.419,47.6049' style='fill:none;fill-rule:evenodd;stroke:#000000;stroke-width:2.0px;stroke-linecap:butt;stroke-linejoin:miter;stroke-opacity:1' />\n</svg>\n"
          },
          "metadata": {},
          "execution_count": 30
        }
      ]
    },
    {
      "cell_type": "markdown",
      "metadata": {
        "id": "t73cMj4B-aFr"
      },
      "source": [
        "### Charges on an atom can be used to override the knowledge regarding valence that is built into SMILES software. The format for identifying a charged atom consists of the atom followed by brackets which enclose the charge on the atom. The number of charges may be explicitly stated ({-1}) or not ({-}). For example:"
      ]
    },
    {
      "cell_type": "code",
      "metadata": {
        "colab": {
          "base_uri": "https://localhost:8080/"
        },
        "id": "covi4e_fuGLf",
        "outputId": "1f0759be-3ead-44a1-ccc1-2d713a5adb1b"
      },
      "source": [
        "m1 = Chem.MolFromSmiles('CCC(=O)O{-1}')\n",
        "m2 = Chem.MolFromSmiles('CCC(=O)O{-}')\n",
        "m3 = Chem.MolFromSmiles('c1ccccn{+1}1CC(=O)O')\n",
        "m2"
      ],
      "execution_count": 32,
      "outputs": [
        {
          "output_type": "stream",
          "name": "stderr",
          "text": [
            "RDKit ERROR: [00:10:10] SMILES Parse Error: syntax error while parsing: CCC(=O)O{-1}\n",
            "RDKit ERROR: [00:10:10] SMILES Parse Error: Failed parsing SMILES 'CCC(=O)O{-1}' for input: 'CCC(=O)O{-1}'\n",
            "RDKit ERROR: [00:10:10] SMILES Parse Error: syntax error while parsing: CCC(=O)O{-}\n",
            "RDKit ERROR: [00:10:10] SMILES Parse Error: Failed parsing SMILES 'CCC(=O)O{-}' for input: 'CCC(=O)O{-}'\n",
            "RDKit ERROR: [00:10:10] SMILES Parse Error: syntax error while parsing: c1ccccn{+1}1CC(=O)O\n",
            "RDKit ERROR: [00:10:10] SMILES Parse Error: Failed parsing SMILES 'c1ccccn{+1}1CC(=O)O' for input: 'c1ccccn{+1}1CC(=O)O'\n"
          ]
        }
      ]
    },
    {
      "cell_type": "code",
      "metadata": {
        "id": "FM1dHluo-mOT"
      },
      "source": [
        ""
      ],
      "execution_count": null,
      "outputs": []
    },
    {
      "cell_type": "markdown",
      "metadata": {
        "id": "hglhcUllA6m0"
      },
      "source": [
        "# Reading Mol file data"
      ]
    },
    {
      "cell_type": "code",
      "metadata": {
        "colab": {
          "base_uri": "https://localhost:8080/",
          "height": 171
        },
        "id": "39Ei2G-kA9vP",
        "outputId": "1ba44981-c030-44ea-fbed-67131159f304"
      },
      "source": [
        "molblock = \"\"\"phenol\n",
        "  Mrv1682210081607082D          \n",
        "\n",
        "  7  7  0  0  0  0            999 V2000\n",
        "   -0.6473    1.0929    0.0000 C   0  0  0  0  0  0  0  0  0  0  0  0\n",
        "   -1.3618    0.6804    0.0000 C   0  0  0  0  0  0  0  0  0  0  0  0\n",
        "   -1.3618   -0.1447    0.0000 C   0  0  0  0  0  0  0  0  0  0  0  0\n",
        "   -0.6473   -0.5572    0.0000 C   0  0  0  0  0  0  0  0  0  0  0  0\n",
        "    0.0671   -0.1447    0.0000 C   0  0  0  0  0  0  0  0  0  0  0  0\n",
        "    0.0671    0.6804    0.0000 C   0  0  0  0  0  0  0  0  0  0  0  0\n",
        "    0.7816    1.0929    0.0000 O   0  0  0  0  0  0  0  0  0  0  0  0\n",
        "  1  2  1  0  0  0  0\n",
        "  2  3  2  0  0  0  0\n",
        "  3  4  1  0  0  0  0\n",
        "  4  5  2  0  0  0  0\n",
        "  5  6  1  0  0  0  0\n",
        "  1  6  2  0  0  0  0\n",
        "  6  7  1  0  0  0  0\n",
        "M  END\n",
        "\"\"\"\n",
        "m = Chem.MolFromMolBlock(molblock)\n",
        "m"
      ],
      "execution_count": 33,
      "outputs": [
        {
          "output_type": "execute_result",
          "data": {
            "image/png": "[encoded data removed]",
            "text/plain": [
              "<rdkit.Chem.rdchem.Mol at 0x7f95bda88030>"
            ],
            "image/svg+xml": "<?xml version='1.0' encoding='iso-8859-1'?>\n<svg version='1.1' baseProfile='full'\n              xmlns='http://www.w3.org/2000/svg'\n                      xmlns:rdkit='http://www.rdkit.org/xml'\n                      xmlns:xlink='http://www.w3.org/1999/xlink'\n                  xml:space='preserve'\nwidth='450px' height='150px' viewBox='0 0 450 150'>\n<!-- END OF HEADER -->\n<rect style='opacity:1.0;fill:#FFFFFF;stroke:none' width='450' height='150' x='0' y='0'> </rect>\n<path class='bond-0' d='M 180.784,19.8261 L 127.37,50.6632' style='fill:none;fill-rule:evenodd;stroke:#000000;stroke-width:2.0px;stroke-linecap:butt;stroke-linejoin:miter;stroke-opacity:1' />\n<path class='bond-0' d='M 179.499,36.1052 L 142.11,57.6911' style='fill:none;fill-rule:evenodd;stroke:#000000;stroke-width:2.0px;stroke-linecap:butt;stroke-linejoin:miter;stroke-opacity:1' />\n<path class='bond-5' d='M 180.784,19.8261 L 234.19,50.6632' style='fill:none;fill-rule:evenodd;stroke:#000000;stroke-width:2.0px;stroke-linecap:butt;stroke-linejoin:miter;stroke-opacity:1' />\n<path class='bond-1' d='M 127.37,50.6632 L 127.37,112.345' style='fill:none;fill-rule:evenodd;stroke:#000000;stroke-width:2.0px;stroke-linecap:butt;stroke-linejoin:miter;stroke-opacity:1' />\n<path class='bond-2' d='M 127.37,112.345 L 180.784,143.182' style='fill:none;fill-rule:evenodd;stroke:#000000;stroke-width:2.0px;stroke-linecap:butt;stroke-linejoin:miter;stroke-opacity:1' />\n<path class='bond-2' d='M 142.11,105.317 L 179.499,126.903' style='fill:none;fill-rule:evenodd;stroke:#000000;stroke-width:2.0px;stroke-linecap:butt;stroke-linejoin:miter;stroke-opacity:1' />\n<path class='bond-3' d='M 180.784,143.182 L 234.19,112.345' style='fill:none;fill-rule:evenodd;stroke:#000000;stroke-width:2.0px;stroke-linecap:butt;stroke-linejoin:miter;stroke-opacity:1' />\n<path class='bond-4' d='M 234.19,112.345 L 234.19,50.6632' style='fill:none;fill-rule:evenodd;stroke:#000000;stroke-width:2.0px;stroke-linecap:butt;stroke-linejoin:miter;stroke-opacity:1' />\n<path class='bond-4' d='M 220.733,103.093 L 220.733,59.9154' style='fill:none;fill-rule:evenodd;stroke:#000000;stroke-width:2.0px;stroke-linecap:butt;stroke-linejoin:miter;stroke-opacity:1' />\n<path class='bond-6' d='M 234.19,50.6632 L 253.625,39.4424' style='fill:none;fill-rule:evenodd;stroke:#000000;stroke-width:2.0px;stroke-linecap:butt;stroke-linejoin:miter;stroke-opacity:1' />\n<path class='bond-6' d='M 253.625,39.4424 L 273.061,28.2215' style='fill:none;fill-rule:evenodd;stroke:#FF0000;stroke-width:2.0px;stroke-linecap:butt;stroke-linejoin:miter;stroke-opacity:1' />\n<path  class='atom-6' d='M 274.603 19.9061\nQ 274.603 13.1061, 277.963 9.30612\nQ 281.323 5.50612, 287.603 5.50612\nQ 293.883 5.50612, 297.243 9.30612\nQ 300.603 13.1061, 300.603 19.9061\nQ 300.603 26.7861, 297.203 30.7061\nQ 293.803 34.5861, 287.603 34.5861\nQ 281.363 34.5861, 277.963 30.7061\nQ 274.603 26.8261, 274.603 19.9061\nM 287.603 31.3861\nQ 291.923 31.3861, 294.243 28.5061\nQ 296.603 25.5861, 296.603 19.9061\nQ 296.603 14.3461, 294.243 11.5461\nQ 291.923 8.70612, 287.603 8.70612\nQ 283.283 8.70612, 280.923 11.5061\nQ 278.603 14.3061, 278.603 19.9061\nQ 278.603 25.6261, 280.923 28.5061\nQ 283.283 31.3861, 287.603 31.3861\n' fill='#FF0000'/>\n<path  class='atom-6' d='M 304.003 5.82612\nL 307.843 5.82612\nL 307.843 17.8661\nL 322.323 17.8661\nL 322.323 5.82612\nL 326.163 5.82612\nL 326.163 34.1461\nL 322.323 34.1461\nL 322.323 21.0661\nL 307.843 21.0661\nL 307.843 34.1461\nL 304.003 34.1461\nL 304.003 5.82612\n' fill='#FF0000'/>\n</svg>\n"
          },
          "metadata": {},
          "execution_count": 33
        }
      ]
    },
    {
      "cell_type": "markdown",
      "metadata": {
        "id": "YcVArvAgOCK6"
      },
      "source": [
        "### Here the molecule has coordinates that were read in from the Mol block. We can see this because the molecule has a conformer:"
      ]
    },
    {
      "cell_type": "code",
      "metadata": {
        "colab": {
          "base_uri": "https://localhost:8080/"
        },
        "id": "mL4NKLleNrMK",
        "outputId": "90ec6855-8f6c-48a7-a4b6-bb9abf7e4644"
      },
      "source": [
        "m.GetNumConformers()"
      ],
      "execution_count": 34,
      "outputs": [
        {
          "output_type": "execute_result",
          "data": {
            "text/plain": [
              "1"
            ]
          },
          "metadata": {},
          "execution_count": 34
        }
      ]
    },
    {
      "cell_type": "markdown",
      "metadata": {
        "id": "hd7ZlNlaOJg2"
      },
      "source": [
        "### The conformer that is present is 2D (we can see that from the coordinates above):"
      ]
    },
    {
      "cell_type": "code",
      "metadata": {
        "colab": {
          "base_uri": "https://localhost:8080/"
        },
        "id": "mByGIKpXOFOq",
        "outputId": "b56b0f8d-42a4-4ca1-d801-e428f1a9803c"
      },
      "source": [
        "m.GetConformer().Is3D()"
      ],
      "execution_count": 35,
      "outputs": [
        {
          "output_type": "execute_result",
          "data": {
            "text/plain": [
              "False"
            ]
          },
          "metadata": {},
          "execution_count": 35
        }
      ]
    },
    {
      "cell_type": "markdown",
      "metadata": {
        "id": "eELSqFp3OPNP"
      },
      "source": [
        "### Here's another Mol block and the corresponding molecule:"
      ]
    },
    {
      "cell_type": "code",
      "metadata": {
        "colab": {
          "base_uri": "https://localhost:8080/",
          "height": 171
        },
        "id": "lYV3ZS4WOMJB",
        "outputId": "6acae3df-8348-4302-f242-499cce17147f"
      },
      "source": [
        "molblock2 ='''cyclopropanol-3D\n",
        "  Mrv1682210081607153D          \n",
        "\n",
        " 10 10  0  0  0  0            999 V2000\n",
        "    0.9159    1.2233    0.2286 C   0  0  1  0  0  0  0  0  0  0  0  0\n",
        "   -0.0738    1.2748   -0.9428 C   0  0  2  0  0  0  0  0  0  0  0  0\n",
        "   -0.3167    0.3104    0.2232 C   0  0  2  0  0  0  0  0  0  0  0  0\n",
        "   -1.3658    0.6623    1.1190 O   0  0  0  0  0  0  0  0  0  0  0  0\n",
        "    1.8730    0.7413    0.0155 H   0  0  0  0  0  0  0  0  0  0  0  0\n",
        "    0.8835    2.0739    0.9139 H   0  0  0  0  0  0  0  0  0  0  0  0\n",
        "    0.2747    0.8266   -1.8737 H   0  0  0  0  0  0  0  0  0  0  0  0\n",
        "   -0.7163    2.1557   -0.9817 H   0  0  0  0  0  0  0  0  0  0  0  0\n",
        "   -0.1264   -0.7446    0.0137 H   0  0  0  0  0  0  0  0  0  0  0  0\n",
        "   -1.1210    0.2486    1.9735 H   0  0  0  0  0  0  0  0  0  0  0  0\n",
        "  1  2  1  0  0  0  0\n",
        "  2  3  1  0  0  0  0\n",
        "  1  3  1  0  0  0  0\n",
        "  3  4  1  0  0  0  0\n",
        "  1  5  1  0  0  0  0\n",
        "  1  6  1  0  0  0  0\n",
        "  2  7  1  0  0  0  0\n",
        "  2  8  1  0  0  0  0\n",
        "  3  9  1  0  0  0  0\n",
        "  4 10  1  0  0  0  0\n",
        "M  END\n",
        "'''\n",
        "m2 = Chem.MolFromMolBlock(molblock2)\n",
        "m2"
      ],
      "execution_count": 36,
      "outputs": [
        {
          "output_type": "execute_result",
          "data": {
            "image/png": "[encoded data removed]",
            "text/plain": [
              "<rdkit.Chem.rdchem.Mol at 0x7f95bdb41120>"
            ],
            "image/svg+xml": "<?xml version='1.0' encoding='iso-8859-1'?>\n<svg version='1.1' baseProfile='full'\n              xmlns='http://www.w3.org/2000/svg'\n                      xmlns:rdkit='http://www.rdkit.org/xml'\n                      xmlns:xlink='http://www.w3.org/1999/xlink'\n                  xml:space='preserve'\nwidth='450px' height='150px' viewBox='0 0 450 150'>\n<!-- END OF HEADER -->\n<rect style='opacity:1.0;fill:#FFFFFF;stroke:none' width='450' height='150' x='0' y='0'> </rect>\n<path class='bond-0' d='M 403.204,14.1001 L 263.263,6.81818' style='fill:none;fill-rule:evenodd;stroke:#000000;stroke-width:2.0px;stroke-linecap:butt;stroke-linejoin:miter;stroke-opacity:1' />\n<path class='bond-2' d='M 403.204,14.1001 L 228.918,143.182' style='fill:none;fill-rule:evenodd;stroke:#000000;stroke-width:2.0px;stroke-linecap:butt;stroke-linejoin:miter;stroke-opacity:1' />\n<path class='bond-1' d='M 263.263,6.81818 L 228.918,143.182' style='fill:none;fill-rule:evenodd;stroke:#000000;stroke-width:2.0px;stroke-linecap:butt;stroke-linejoin:miter;stroke-opacity:1' />\n<path class='bond-3' d='M 228.918,143.182 L 163.203,121.139' style='fill:none;fill-rule:evenodd;stroke:#000000;stroke-width:2.0px;stroke-linecap:butt;stroke-linejoin:miter;stroke-opacity:1' />\n<path class='bond-3' d='M 163.203,121.139 L 97.4893,99.0967' style='fill:none;fill-rule:evenodd;stroke:#FF0000;stroke-width:2.0px;stroke-linecap:butt;stroke-linejoin:miter;stroke-opacity:1' />\n<path  class='atom-3' d='M 43.4177 79.4241\nL 47.2577 79.4241\nL 47.2577 91.4641\nL 61.7377 91.4641\nL 61.7377 79.4241\nL 65.5777 79.4241\nL 65.5777 107.744\nL 61.7377 107.744\nL 61.7377 94.6641\nL 47.2577 94.6641\nL 47.2577 107.744\nL 43.4177 107.744\nL 43.4177 79.4241\n' fill='#FF0000'/>\n<path  class='atom-3' d='M 67.5777 93.5041\nQ 67.5777 86.7041, 70.9377 82.9041\nQ 74.2977 79.1041, 80.5777 79.1041\nQ 86.8577 79.1041, 90.2177 82.9041\nQ 93.5777 86.7041, 93.5777 93.5041\nQ 93.5777 100.384, 90.1777 104.304\nQ 86.7777 108.184, 80.5777 108.184\nQ 74.3377 108.184, 70.9377 104.304\nQ 67.5777 100.424, 67.5777 93.5041\nM 80.5777 104.984\nQ 84.8977 104.984, 87.2177 102.104\nQ 89.5777 99.1841, 89.5777 93.5041\nQ 89.5777 87.9441, 87.2177 85.1441\nQ 84.8977 82.3041, 80.5777 82.3041\nQ 76.2577 82.3041, 73.8977 85.1041\nQ 71.5777 87.9041, 71.5777 93.5041\nQ 71.5777 99.2241, 73.8977 102.104\nQ 76.2577 104.984, 80.5777 104.984\n' fill='#FF0000'/>\n</svg>\n"
          },
          "metadata": {},
          "execution_count": 36
        }
      ]
    },
    {
      "cell_type": "code",
      "metadata": {
        "colab": {
          "base_uri": "https://localhost:8080/"
        },
        "id": "9wfUavUiOTbL",
        "outputId": "76eaf810-4912-4d4e-f8a7-c4f54bc6043d"
      },
      "source": [
        "m2.GetConformer().Is3D()"
      ],
      "execution_count": 37,
      "outputs": [
        {
          "output_type": "execute_result",
          "data": {
            "text/plain": [
              "True"
            ]
          },
          "metadata": {},
          "execution_count": 37
        }
      ]
    },
    {
      "cell_type": "markdown",
      "metadata": {
        "id": "1cluYrPhOa5B"
      },
      "source": [
        "### Notice that no Hs were drawn even though there are clearly H atoms in the Mol block. The default behavior for the RDKit Mol block reader is to remove Hs from the input molecule. If we want to keep the Hs and their coordinates, this behavior can be turned off:"
      ]
    },
    {
      "cell_type": "code",
      "metadata": {
        "colab": {
          "base_uri": "https://localhost:8080/",
          "height": 171
        },
        "id": "1EV4X0ECOWha",
        "outputId": "bcb70d64-a5a7-4d19-b638-7d9620d66344"
      },
      "source": [
        "m2_h = Chem.MolFromMolBlock(molblock2,removeHs=False)\n",
        "m2_h"
      ],
      "execution_count": 38,
      "outputs": [
        {
          "output_type": "execute_result",
          "data": {
            "image/png": "[encoded data removed]",
            "text/plain": [
              "<rdkit.Chem.rdchem.Mol at 0x7f95bdad3b20>"
            ],
            "image/svg+xml": "<?xml version='1.0' encoding='iso-8859-1'?>\n<svg version='1.1' baseProfile='full'\n              xmlns='http://www.w3.org/2000/svg'\n                      xmlns:rdkit='http://www.rdkit.org/xml'\n                      xmlns:xlink='http://www.w3.org/1999/xlink'\n                  xml:space='preserve'\nwidth='450px' height='150px' viewBox='0 0 450 150'>\n<!-- END OF HEADER -->\n<rect style='opacity:1.0;fill:#FFFFFF;stroke:none' width='450' height='150' x='0' y='0'> </rect>\n<path class='bond-0' d='M 252.752,53.7669 L 212.164,51.6548' style='fill:none;fill-rule:evenodd;stroke:#000000;stroke-width:2.0px;stroke-linecap:butt;stroke-linejoin:miter;stroke-opacity:1' />\n<path class='bond-2' d='M 252.752,53.7669 L 202.202,91.2053' style='fill:none;fill-rule:evenodd;stroke:#000000;stroke-width:2.0px;stroke-linecap:butt;stroke-linejoin:miter;stroke-opacity:1' />\n<path class='bond-4' d='M 252.752,53.7669 L 284.088,69.548' style='fill:none;fill-rule:evenodd;stroke:#000000;stroke-width:2.0px;stroke-linecap:butt;stroke-linejoin:miter;stroke-opacity:1' />\n<path class='bond-5' d='M 252.752,53.7669 L 251.788,28.4668' style='fill:none;fill-rule:evenodd;stroke:#000000;stroke-width:2.0px;stroke-linecap:butt;stroke-linejoin:miter;stroke-opacity:1' />\n<path class='bond-1' d='M 212.164,51.6548 L 202.202,91.2053' style='fill:none;fill-rule:evenodd;stroke:#000000;stroke-width:2.0px;stroke-linecap:butt;stroke-linejoin:miter;stroke-opacity:1' />\n<path class='bond-6' d='M 212.164,51.6548 L 219.23,60.743' style='fill:none;fill-rule:evenodd;stroke:#000000;stroke-width:2.0px;stroke-linecap:butt;stroke-linejoin:miter;stroke-opacity:1' />\n<path class='bond-7' d='M 212.164,51.6548 L 192.983,25.3573' style='fill:none;fill-rule:evenodd;stroke:#000000;stroke-width:2.0px;stroke-linecap:butt;stroke-linejoin:miter;stroke-opacity:1' />\n<path class='bond-3' d='M 202.202,91.2053 L 185.256,85.521' style='fill:none;fill-rule:evenodd;stroke:#000000;stroke-width:2.0px;stroke-linecap:butt;stroke-linejoin:miter;stroke-opacity:1' />\n<path class='bond-3' d='M 185.256,85.521 L 168.31,79.8367' style='fill:none;fill-rule:evenodd;stroke:#FF0000;stroke-width:2.0px;stroke-linecap:butt;stroke-linejoin:miter;stroke-opacity:1' />\n<path class='bond-8' d='M 202.202,91.2053 L 208.237,124.662' style='fill:none;fill-rule:evenodd;stroke:#000000;stroke-width:2.0px;stroke-linecap:butt;stroke-linejoin:miter;stroke-opacity:1' />\n<path class='bond-9' d='M 164.843,86.3462 L 167.03,90.043' style='fill:none;fill-rule:evenodd;stroke:#FF0000;stroke-width:2.0px;stroke-linecap:butt;stroke-linejoin:miter;stroke-opacity:1' />\n<path class='bond-9' d='M 167.03,90.043 L 169.218,93.7397' style='fill:none;fill-rule:evenodd;stroke:#000000;stroke-width:2.0px;stroke-linecap:butt;stroke-linejoin:miter;stroke-opacity:1' />\n<path  class='atom-3' d='M 151.181 76.8229\nQ 151.181 72.6399, 153.248 70.3023\nQ 155.315 67.9647, 159.178 67.9647\nQ 163.042 67.9647, 165.108 70.3023\nQ 167.175 72.6399, 167.175 76.8229\nQ 167.175 81.0552, 165.084 83.4666\nQ 162.992 85.8534, 159.178 85.8534\nQ 155.34 85.8534, 153.248 83.4666\nQ 151.181 81.0798, 151.181 76.8229\nM 159.178 83.8849\nQ 161.836 83.8849, 163.263 82.1133\nQ 164.715 80.317, 164.715 76.8229\nQ 164.715 73.4026, 163.263 71.6802\nQ 161.836 69.9332, 159.178 69.9332\nQ 156.521 69.9332, 155.069 71.6556\nQ 153.642 73.378, 153.642 76.8229\nQ 153.642 80.3416, 155.069 82.1133\nQ 156.521 83.8849, 159.178 83.8849\n' fill='#FF0000'/>\n<path  class='atom-4' d='M 285.187 64.8233\nL 287.549 64.8233\nL 287.549 72.2297\nL 296.456 72.2297\nL 296.456 64.8233\nL 298.819 64.8233\nL 298.819 82.2445\nL 296.456 82.2445\nL 296.456 74.1982\nL 287.549 74.1982\nL 287.549 82.2445\nL 285.187 82.2445\nL 285.187 64.8233\n' fill='#000000'/>\n<path  class='atom-5' d='M 244.607 10.1728\nL 246.969 10.1728\nL 246.969 17.5793\nL 255.877 17.5793\nL 255.877 10.1728\nL 258.239 10.1728\nL 258.239 27.594\nL 255.877 27.594\nL 255.877 19.5478\nL 246.969 19.5478\nL 246.969 27.594\nL 244.607 27.594\nL 244.607 10.1728\n' fill='#000000'/>\n<path  class='atom-6' d='M 219.64 61.3251\nL 222.002 61.3251\nL 222.002 68.7316\nL 230.91 68.7316\nL 230.91 61.3251\nL 233.272 61.3251\nL 233.272 78.7463\nL 230.91 78.7463\nL 230.91 70.7001\nL 222.002 70.7001\nL 222.002 78.7463\nL 219.64 78.7463\nL 219.64 61.3251\n' fill='#000000'/>\n<path  class='atom-7' d='M 178.999 6.81818\nL 181.361 6.81818\nL 181.361 14.2247\nL 190.268 14.2247\nL 190.268 6.81818\nL 192.631 6.81818\nL 192.631 24.2394\nL 190.268 24.2394\nL 190.268 16.1932\nL 181.361 16.1932\nL 181.361 24.2394\nL 178.999 24.2394\nL 178.999 6.81818\n' fill='#000000'/>\n<path  class='atom-8' d='M 203.191 125.761\nL 205.553 125.761\nL 205.553 133.167\nL 214.46 133.167\nL 214.46 125.761\nL 216.823 125.761\nL 216.823 143.182\nL 214.46 143.182\nL 214.46 135.136\nL 205.553 135.136\nL 205.553 143.182\nL 203.191 143.182\nL 203.191 125.761\n' fill='#000000'/>\n<path  class='atom-9' d='M 162.402 85.0291\nL 164.764 85.0291\nL 164.764 92.4356\nL 173.671 92.4356\nL 173.671 85.0291\nL 176.034 85.0291\nL 176.034 102.45\nL 173.671 102.45\nL 173.671 94.4041\nL 164.764 94.4041\nL 164.764 102.45\nL 162.402 102.45\nL 162.402 85.0291\n' fill='#000000'/>\n</svg>\n"
          },
          "metadata": {},
          "execution_count": 38
        }
      ]
    },
    {
      "cell_type": "code",
      "metadata": {
        "id": "lxWl9c4aOc-k"
      },
      "source": [
        ""
      ],
      "execution_count": null,
      "outputs": []
    },
    {
      "cell_type": "markdown",
      "metadata": {
        "id": "8SPAEZxDOqFv"
      },
      "source": [
        "# Reading PDB data"
      ]
    },
    {
      "cell_type": "markdown",
      "metadata": {
        "id": "RAZ2y2m2Oxi-"
      },
      "source": [
        "### This time we'll read from a file instead of embedding the text in the notebook. We also won't try to display the molecule itself, since that isn't particularly informative for a large molecule."
      ]
    },
    {
      "cell_type": "code",
      "metadata": {
        "id": "OT_qtrl9Oz33"
      },
      "source": [
        "crn = Chem.MolFromPDBFile('1CRN.pdb')\n",
        "crn.GetNumAtoms()"
      ],
      "execution_count": null,
      "outputs": []
    },
    {
      "cell_type": "markdown",
      "metadata": {
        "id": "WtaU3V0zOxwd"
      },
      "source": [
        ""
      ]
    },
    {
      "cell_type": "markdown",
      "metadata": {
        "id": "AMCXpXJxOxxv"
      },
      "source": [
        ""
      ]
    },
    {
      "cell_type": "markdown",
      "metadata": {
        "id": "ErSxzWPzOx4I"
      },
      "source": [
        ""
      ]
    },
    {
      "cell_type": "code",
      "metadata": {
        "id": "gs3F7YvdOsnj"
      },
      "source": [
        ""
      ],
      "execution_count": null,
      "outputs": []
    }
  ]
}