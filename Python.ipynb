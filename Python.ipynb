{
  "nbformat": 4,
  "nbformat_minor": 0,
  "metadata": {
    "kernelspec": {
      "display_name": "Python 3",
      "language": "python",
      "name": "python3"
    },
    "language_info": {
      "codemirror_mode": {
        "name": "ipython",
        "version": 3
      },
      "file_extension": ".py",
      "mimetype": "text/x-python",
      "name": "python",
      "nbconvert_exporter": "python",
      "pygments_lexer": "ipython3",
      "version": "3.7.4"
    },
    "colab": {
      "name": "Python.ipynb",
      "provenance": [],
      "include_colab_link": true
    }
  },
  "cells": [
    {
      "cell_type": "markdown",
      "metadata": {
        "id": "view-in-github",
        "colab_type": "text"
      },
      "source": [
        "<a href=\"https://colab.research.google.com/github/junsookim76/ChemML/blob/main/Python.ipynb\" target=\"_parent\"><img src=\"https://colab.research.google.com/assets/colab-badge.svg\" alt=\"Open In Colab\"/></a>"
      ]
    },
    {
      "cell_type": "markdown",
      "metadata": {
        "id": "BdhpTBPHL89L"
      },
      "source": [
        "# Python"
      ]
    },
    {
      "cell_type": "markdown",
      "metadata": {
        "id": "v1rnFvDeJB0T"
      },
      "source": [
        "## Before we start,"
      ]
    },
    {
      "cell_type": "code",
      "metadata": {
        "colab": {
          "base_uri": "https://localhost:8080/"
        },
        "id": "bOXIMrC3T07i",
        "outputId": "d2601d79-e627-4039-afd9-c9ee0c20d3db"
      },
      "source": [
        "import this"
      ],
      "execution_count": 1,
      "outputs": [
        {
          "output_type": "stream",
          "name": "stdout",
          "text": [
            "The Zen of Python, by Tim Peters\n",
            "\n",
            "Beautiful is better than ugly.\n",
            "Explicit is better than implicit.\n",
            "Simple is better than complex.\n",
            "Complex is better than complicated.\n",
            "Flat is better than nested.\n",
            "Sparse is better than dense.\n",
            "Readability counts.\n",
            "Special cases aren't special enough to break the rules.\n",
            "Although practicality beats purity.\n",
            "Errors should never pass silently.\n",
            "Unless explicitly silenced.\n",
            "In the face of ambiguity, refuse the temptation to guess.\n",
            "There should be one-- and preferably only one --obvious way to do it.\n",
            "Although that way may not be obvious at first unless you're Dutch.\n",
            "Now is better than never.\n",
            "Although never is often better than *right* now.\n",
            "If the implementation is hard to explain, it's a bad idea.\n",
            "If the implementation is easy to explain, it may be a good idea.\n",
            "Namespaces are one honking great idea -- let's do more of those!\n"
          ]
        }
      ]
    },
    {
      "cell_type": "markdown",
      "metadata": {
        "id": "WrTaxmq1HMkj"
      },
      "source": [
        "## 1.변수"
      ]
    },
    {
      "cell_type": "markdown",
      "metadata": {
        "id": "cOwSVS7gRZ-A"
      },
      "source": [
        "### 정수와 실수, 그리고 문자열 변수"
      ]
    },
    {
      "cell_type": "code",
      "metadata": {
        "colab": {
          "base_uri": "https://localhost:8080/"
        },
        "id": "vZ_Y5A39L89N",
        "outputId": "7fbee6fc-1b67-4f64-df26-10b6c84b76f2"
      },
      "source": [
        "a=31\n",
        "b=24\n",
        "c=a+b\n",
        "\n",
        "print(a,'+',b,\"=\",c)\n",
        "print(a,\"*\",b,\"=\",a*b)\n",
        "print(a,\"=\",a//b,\"*\",b,\"+\",a%b)\n",
        "\n",
        "print(\"%d + %d = %d\" %(a,b,c))\n",
        "print(\"%d * %d = %d\" %(a,b,a*b))\n",
        "print(\"%d = %d * %d + %d\" %(a,a//b,b,a%b))"
      ],
      "execution_count": 6,
      "outputs": [
        {
          "output_type": "stream",
          "name": "stdout",
          "text": [
            "31 + 24 = 55\n",
            "31 * 24 = 744\n",
            "31 = 1 * 24 + 7\n",
            "31 + 24 = 55\n",
            "31 * 24 = 744\n",
            "31 = 1 * 24 + 7\n"
          ]
        }
      ]
    },
    {
      "cell_type": "code",
      "metadata": {
        "colab": {
          "base_uri": "https://localhost:8080/"
        },
        "id": "72ZgItfKMTxp",
        "outputId": "d0b355a0-9252-4ea9-a7f2-55c341bf3539"
      },
      "source": [
        "i1=39.\n",
        "i2=939.\n",
        "i3=i2//i1\n",
        "i4=i1**2\n",
        "\n",
        "i5=4\n",
        "i6=2.0\n",
        "i7=i5*i6\n",
        "i8=i5**0.5\n",
        "\n",
        "print(i2,'//',i1,'=',i3)\n",
        "print(i1,'**2=',i4)\n",
        "print(i5,'*',i6,'=',i7)\n",
        "print(\"sqrt(\",i5,\")=\",i8)"
      ],
      "execution_count": 8,
      "outputs": [
        {
          "output_type": "stream",
          "name": "stdout",
          "text": [
            "939.0 // 39.0 = 24.0\n",
            "39.0 **2= 1521.0\n",
            "4 * 2.0 = 8.0\n",
            "sqrt( 4 )= 2.0\n"
          ]
        }
      ]
    },
    {
      "cell_type": "code",
      "metadata": {
        "colab": {
          "base_uri": "https://localhost:8080/"
        },
        "id": "zBV_G4P-L89O",
        "outputId": "b9cb3e19-7be2-43e0-feb4-94e9506af1f7"
      },
      "source": [
        "t1=\"this\"\n",
        "t2='that'\n",
        "\n",
        "print(t1,\"is\",t2)\n",
        "\n",
        "print(\"%s is %s\" %(t1,t2))"
      ],
      "execution_count": 9,
      "outputs": [
        {
          "output_type": "stream",
          "name": "stdout",
          "text": [
            "this is that\n",
            "this is that\n"
          ]
        }
      ]
    },
    {
      "cell_type": "code",
      "metadata": {
        "colab": {
          "base_uri": "https://localhost:8080/"
        },
        "id": "y1Wxia6dL89Q",
        "outputId": "77ec12fd-5f24-425e-e3e3-ff921732f9e3"
      },
      "source": [
        "print(t1[1])\n",
        "print(t1[1:4])\n",
        "print(t1+t2)\n",
        "print(len(\"21\"+\"1 24\"))"
      ],
      "execution_count": 12,
      "outputs": [
        {
          "output_type": "stream",
          "name": "stdout",
          "text": [
            "h\n",
            "his\n",
            "thisthat\n",
            "6\n"
          ]
        }
      ]
    },
    {
      "cell_type": "markdown",
      "metadata": {
        "id": "nUtaopoERgNv"
      },
      "source": [
        "### 리스트\u0003"
      ]
    },
    {
      "cell_type": "code",
      "metadata": {
        "colab": {
          "base_uri": "https://localhost:8080/"
        },
        "id": "2vVVrWkoL89P",
        "outputId": "2e52fb0d-c9ae-4e7e-d272-6b3f3d188e6b"
      },
      "source": [
        "a9=[1,2,3,4,5,6,7,8,9,10]\n",
        "\n",
        "print(a9)\n",
        "\n",
        "a=[1,2,3,4,5,6,[1,2,3,4]]\n",
        "print(a)\n",
        "print(a[2],a[3],a[-1])"
      ],
      "execution_count": 15,
      "outputs": [
        {
          "output_type": "stream",
          "name": "stdout",
          "text": [
            "[1, 2, 3, 4, 5, 6, 7, 8, 9, 10]\n",
            "[1, 2, 3, 4, 5, 6, [1, 2, 3, 4]]\n",
            "3 4 [1, 2, 3, 4]\n"
          ]
        }
      ]
    },
    {
      "cell_type": "code",
      "metadata": {
        "colab": {
          "base_uri": "https://localhost:8080/"
        },
        "id": "7lQaVOkvL4X0",
        "outputId": "f98f20da-d439-42f4-8e46-2ad8b0e83955"
      },
      "source": [
        "print(type(a))\n",
        "print(type(b))\n",
        "print(type(i1))\n",
        "print(type(i7))\n",
        "print(type(t1))"
      ],
      "execution_count": 16,
      "outputs": [
        {
          "output_type": "stream",
          "name": "stdout",
          "text": [
            "<class 'list'>\n",
            "<class 'int'>\n",
            "<class 'float'>\n",
            "<class 'float'>\n",
            "<class 'str'>\n"
          ]
        }
      ]
    },
    {
      "cell_type": "code",
      "metadata": {
        "colab": {
          "base_uri": "https://localhost:8080/"
        },
        "id": "4uK6ShVAL89P",
        "outputId": "129dbe0f-4d0d-40f8-e194-fa1c7ecea0cf"
      },
      "source": [
        "a.append(10)\n",
        "print(a)"
      ],
      "execution_count": 17,
      "outputs": [
        {
          "output_type": "stream",
          "name": "stdout",
          "text": [
            "[1, 2, 3, 4, 5, 6, [1, 2, 3, 4], 10]\n"
          ]
        }
      ]
    },
    {
      "cell_type": "code",
      "metadata": {
        "colab": {
          "base_uri": "https://localhost:8080/"
        },
        "id": "dWywfdW4L89P",
        "outputId": "1df98eb3-a098-4571-d696-d17ed043f467"
      },
      "source": [
        "a.remove([1, 2, 3, 4])\n",
        "print(a)"
      ],
      "execution_count": 18,
      "outputs": [
        {
          "output_type": "stream",
          "name": "stdout",
          "text": [
            "[1, 2, 3, 4, 5, 6, 10]\n"
          ]
        }
      ]
    },
    {
      "cell_type": "code",
      "metadata": {
        "colab": {
          "base_uri": "https://localhost:8080/"
        },
        "id": "p-gBUMe7PCln",
        "outputId": "ba8bdf2e-8809-4c1b-8ad5-860be6d5079c"
      },
      "source": [
        "print(len(a))\n",
        "print(a[0],a[-1],a[6])\n",
        "print(a[:2],a[1:2],a[2::2])"
      ],
      "execution_count": 19,
      "outputs": [
        {
          "output_type": "stream",
          "name": "stdout",
          "text": [
            "7\n",
            "1 10 10\n",
            "[1, 2] [2] [3, 5, 10]\n"
          ]
        }
      ]
    },
    {
      "cell_type": "code",
      "metadata": {
        "colab": {
          "base_uri": "https://localhost:8080/"
        },
        "id": "rV6jlTqePldN",
        "outputId": "f1fcd759-ac43-4abb-cf9f-20fa16614a36"
      },
      "source": [
        "a1=[1,2,3]\n",
        "a2=[4,5,6]\n",
        "\n",
        "print('a1+a2=',a1+a2)\n",
        "print('a1*3=',a1*3)"
      ],
      "execution_count": 20,
      "outputs": [
        {
          "output_type": "stream",
          "name": "stdout",
          "text": [
            "a1+a2= [1, 2, 3, 4, 5, 6]\n",
            "a1*3= [1, 2, 3, 1, 2, 3, 1, 2, 3]\n"
          ]
        }
      ]
    },
    {
      "cell_type": "markdown",
      "metadata": {
        "id": "PFghXEapRjsp"
      },
      "source": [
        "### 딕셔너리"
      ]
    },
    {
      "cell_type": "code",
      "metadata": {
        "id": "phTyBvmJlF-J",
        "colab": {
          "base_uri": "https://localhost:8080/"
        },
        "outputId": "e66dd3b2-9c2d-4593-97e8-ecffa51ca250"
      },
      "source": [
        "sr={\"abc1\":\"JAN\",2:\"FEb\"}\n",
        "print(sr[\"abc1\"])\n",
        "print(sr[2])"
      ],
      "execution_count": 25,
      "outputs": [
        {
          "output_type": "stream",
          "name": "stdout",
          "text": [
            "JAN\n",
            "FEb\n"
          ]
        }
      ]
    },
    {
      "cell_type": "code",
      "metadata": {
        "colab": {
          "base_uri": "https://localhost:8080/"
        },
        "id": "yPTWXkFiL89Q",
        "outputId": "072eeac8-f7f8-4cfd-e00a-3f8e0e407373"
      },
      "source": [
        "a={1:\"Jan\",2:\"Feb\",\"date\":\"Mar\"}\n",
        "print(a[1])"
      ],
      "execution_count": 26,
      "outputs": [
        {
          "output_type": "stream",
          "name": "stdout",
          "text": [
            "Jan\n"
          ]
        }
      ]
    },
    {
      "cell_type": "code",
      "metadata": {
        "colab": {
          "base_uri": "https://localhost:8080/"
        },
        "id": "HhO71Qi1L89R",
        "outputId": "3ec5399b-bbc9-49bc-d3cf-c0a519f82efb"
      },
      "source": [
        "print(a[1]+\" and \"+a[\"date\"])"
      ],
      "execution_count": null,
      "outputs": [
        {
          "output_type": "stream",
          "name": "stdout",
          "text": [
            "Jan and Mar\n"
          ]
        }
      ]
    },
    {
      "cell_type": "code",
      "metadata": {
        "colab": {
          "base_uri": "https://localhost:8080/"
        },
        "id": "ijJ48hrOL89R",
        "outputId": "b88d9acd-245c-4da7-f09f-e6cbce14a89c"
      },
      "source": [
        "a[10]=\"Oct\"\n",
        "print(a[10],\",dict is \",a)"
      ],
      "execution_count": null,
      "outputs": [
        {
          "output_type": "stream",
          "name": "stdout",
          "text": [
            "Oct ,dict is  {1: 'Jan', 2: 'Feb', 'date': 'Mar', 10: 'Oct'}\n"
          ]
        }
      ]
    },
    {
      "cell_type": "markdown",
      "metadata": {
        "id": "0hpRI_JxIxm-"
      },
      "source": [
        "### Exercise 1] 1부터 10까지의 정수로 이루어진 리스트를 만들고 가장 작은 숫자와 가장 큰 숫자, 그리고 가장 작은 숫자 5개를 각각 출력하세요."
      ]
    },
    {
      "cell_type": "markdown",
      "metadata": {
        "id": "kDzjF3xhL89S"
      },
      "source": [
        "## 2. If/Loop"
      ]
    },
    {
      "cell_type": "code",
      "metadata": {
        "id": "WNkLFPykSHWg",
        "colab": {
          "base_uri": "https://localhost:8080/"
        },
        "outputId": "2fd0e181-007b-4ec4-e3ce-828408b3adf6"
      },
      "source": [
        "a=1\n",
        "b=0\n",
        "\n",
        "print(a==b)\n",
        "print(a!=b)\n",
        "print(a>b)\n",
        "print(a>=b)\n",
        "\n",
        "if a==b:\n",
        "    print(\"a is equal to b\")\n",
        "\n",
        "if a==b:\n",
        "    print(\"a is equal to b\")\n",
        "elif a>b:\n",
        "    print(\"a is greater than b\")\n",
        "    if (a*b==0):\n",
        "        print(\"a or b is zero\")\n",
        "else:\n",
        "    print(\"Neither is corres\")"
      ],
      "execution_count": 28,
      "outputs": [
        {
          "output_type": "stream",
          "name": "stdout",
          "text": [
            "False\n",
            "True\n",
            "True\n",
            "True\n",
            "a is greater than b\n",
            "a or b is zero\n"
          ]
        }
      ]
    },
    {
      "cell_type": "code",
      "metadata": {
        "id": "rMNDAmyUSmga",
        "colab": {
          "base_uri": "https://localhost:8080/"
        },
        "outputId": "ea00f991-cb9a-45b1-e02a-6f67fb1bdff7"
      },
      "source": [
        "a=1\n",
        "b=0\n",
        "c=2\n",
        "\n",
        "if a>b and b>c:\n",
        "    print(\"a is greater than b and b is greater than c\")\n",
        "elif a>b and b<c:\n",
        "    print(\"a is greater than b and c is greater than b\")\n",
        "\n",
        "if a>b or b>c:\n",
        "    print(\"a is greater than b or b is greater than c\")\n",
        "else:\n",
        "    print(\"Nau\")\n",
        "\n",
        "if not a<=b:\n",
        "    print(\"a is greater than b\")\n",
        "else:\n",
        "    print(\"Nau\")\n"
      ],
      "execution_count": 29,
      "outputs": [
        {
          "output_type": "stream",
          "name": "stdout",
          "text": [
            "a is greater than b and c is greater than b\n",
            "a is greater than b or b is greater than c\n",
            "a is greater than b\n"
          ]
        }
      ]
    },
    {
      "cell_type": "code",
      "metadata": {
        "colab": {
          "base_uri": "https://localhost:8080/"
        },
        "id": "S1UuUtDJL89S",
        "outputId": "bb062f82-dc7e-445e-e354-84b767c5c955"
      },
      "source": [
        "for i in [1,2,3,4,5,129]:\n",
        "    print(i)"
      ],
      "execution_count": 30,
      "outputs": [
        {
          "output_type": "stream",
          "name": "stdout",
          "text": [
            "1\n",
            "2\n",
            "3\n",
            "4\n",
            "5\n",
            "129\n"
          ]
        }
      ]
    },
    {
      "cell_type": "code",
      "metadata": {
        "colab": {
          "base_uri": "https://localhost:8080/"
        },
        "id": "a5LOKMOFL89S",
        "outputId": "24f89f3d-a028-4f40-bf1b-90a32b2dba1a"
      },
      "source": [
        "a=[0,1,2,3,4,5,6,7,8,9,10]\n",
        "for i in a[:8]:\n",
        "    print(i)"
      ],
      "execution_count": 31,
      "outputs": [
        {
          "output_type": "stream",
          "name": "stdout",
          "text": [
            "0\n",
            "1\n",
            "2\n",
            "3\n",
            "4\n",
            "5\n",
            "6\n",
            "7\n"
          ]
        }
      ]
    },
    {
      "cell_type": "code",
      "metadata": {
        "colab": {
          "base_uri": "https://localhost:8080/"
        },
        "id": "L3TGnsT-L89T",
        "outputId": "83604459-d87a-4056-b20c-39658b520de8"
      },
      "source": [
        "for i in range(10):\n",
        "    print(i)\n",
        "    if i>4:\n",
        "        break"
      ],
      "execution_count": 33,
      "outputs": [
        {
          "output_type": "stream",
          "name": "stdout",
          "text": [
            "0\n",
            "1\n",
            "2\n",
            "3\n",
            "4\n",
            "5\n"
          ]
        }
      ]
    },
    {
      "cell_type": "code",
      "metadata": {
        "colab": {
          "base_uri": "https://localhost:8080/"
        },
        "id": "-jHkGXCTTslD",
        "outputId": "8bb688d4-aa7a-4eae-a8fc-7dfa9a091e0d"
      },
      "source": [
        "for i in range(3,100,10):\n",
        "    print(i)"
      ],
      "execution_count": 34,
      "outputs": [
        {
          "output_type": "stream",
          "name": "stdout",
          "text": [
            "3\n",
            "13\n",
            "23\n",
            "33\n",
            "43\n",
            "53\n",
            "63\n",
            "73\n",
            "83\n",
            "93\n"
          ]
        }
      ]
    },
    {
      "cell_type": "code",
      "metadata": {
        "colab": {
          "base_uri": "https://localhost:8080/"
        },
        "id": "wwiYRqafL89T",
        "outputId": "a6ab680c-da73-4094-fd43-82767517bf8d"
      },
      "source": [
        "a=0\n",
        "while(a<5):\n",
        "    print(a)\n",
        "    a+=1"
      ],
      "execution_count": null,
      "outputs": [
        {
          "output_type": "stream",
          "name": "stdout",
          "text": [
            "0\n",
            "1\n",
            "2\n",
            "3\n",
            "4\n"
          ]
        }
      ]
    },
    {
      "cell_type": "code",
      "metadata": {
        "colab": {
          "base_uri": "https://localhost:8080/"
        },
        "id": "mdMqlDXgL89T",
        "outputId": "bcfd121b-16b6-4587-9071-f0f5a70f262b"
      },
      "source": [
        "a=0\n",
        "while(a<10):\n",
        "    print(a)\n",
        "    a+=1\n",
        "    if(a==7):\n",
        "        break"
      ],
      "execution_count": 35,
      "outputs": [
        {
          "output_type": "stream",
          "name": "stdout",
          "text": [
            "0\n",
            "1\n",
            "2\n",
            "3\n",
            "4\n",
            "5\n",
            "6\n"
          ]
        }
      ]
    },
    {
      "cell_type": "markdown",
      "metadata": {
        "id": "0wsfNmQ-L89T"
      },
      "source": [
        "### Exercise 2] 구구단 2단과 8단을 출력해 보세요"
      ]
    },
    {
      "cell_type": "code",
      "metadata": {
        "id": "AA11DW14gGeM",
        "outputId": "40ffafca-b65e-4be7-8471-b56f7edd2203",
        "colab": {
          "base_uri": "https://localhost:8080/"
        }
      },
      "source": [
        "for i in [2,8]:\n",
        "    for j in range(1,10):\n",
        "        print(i,\"*\",j,'=',i*j)"
      ],
      "execution_count": 37,
      "outputs": [
        {
          "output_type": "stream",
          "name": "stdout",
          "text": [
            "2 * 1 = 2\n",
            "2 * 2 = 4\n",
            "2 * 3 = 6\n",
            "2 * 4 = 8\n",
            "2 * 5 = 10\n",
            "2 * 6 = 12\n",
            "2 * 7 = 14\n",
            "2 * 8 = 16\n",
            "2 * 9 = 18\n",
            "8 * 1 = 8\n",
            "8 * 2 = 16\n",
            "8 * 3 = 24\n",
            "8 * 4 = 32\n",
            "8 * 5 = 40\n",
            "8 * 6 = 48\n",
            "8 * 7 = 56\n",
            "8 * 8 = 64\n",
            "8 * 9 = 72\n"
          ]
        }
      ]
    },
    {
      "cell_type": "code",
      "metadata": {
        "colab": {
          "base_uri": "https://localhost:8080/"
        },
        "id": "A-DWBDQJL89T",
        "outputId": "907fb2a7-9c64-46dd-b67b-8dc6af56af54"
      },
      "source": [
        "for i in range(1,10):\n",
        "    for j in [2,8]:\n",
        "        print(j,\"*\",i,\"=\",j*i,end=\"\\t\")\n",
        "    print()"
      ],
      "execution_count": null,
      "outputs": [
        {
          "output_type": "stream",
          "name": "stdout",
          "text": [
            "2 * 1 = 2\t8 * 1 = 8\t\n",
            "2 * 2 = 4\t8 * 2 = 16\t\n",
            "2 * 3 = 6\t8 * 3 = 24\t\n",
            "2 * 4 = 8\t8 * 4 = 32\t\n",
            "2 * 5 = 10\t8 * 5 = 40\t\n",
            "2 * 6 = 12\t8 * 6 = 48\t\n",
            "2 * 7 = 14\t8 * 7 = 56\t\n",
            "2 * 8 = 16\t8 * 8 = 64\t\n",
            "2 * 9 = 18\t8 * 9 = 72\t\n"
          ]
        }
      ]
    },
    {
      "cell_type": "markdown",
      "metadata": {
        "id": "eokLoJuZUfzD"
      },
      "source": [
        "## 3. Input/Output"
      ]
    },
    {
      "cell_type": "code",
      "metadata": {
        "id": "VcPFDVIkL89U"
      },
      "source": [
        "f=open(\"text.txt\",\"w\")\n",
        "for i in range(1,10):\n",
        "    f.write(str(i))\n",
        "    f.write(\"\\t\")\n",
        "    f.write(str(i*10))\n",
        "    f.write(\"\\n\")\n",
        "f.close()"
      ],
      "execution_count": 38,
      "outputs": []
    },
    {
      "cell_type": "code",
      "metadata": {
        "colab": {
          "base_uri": "https://localhost:8080/"
        },
        "id": "bvzKVdUCkgvu",
        "outputId": "8acd1639-6f4b-471d-f428-d340693dbaf3"
      },
      "source": [
        "f=open(\"text.txt\")\n",
        "print(f.read())\n",
        "f.close()"
      ],
      "execution_count": 39,
      "outputs": [
        {
          "output_type": "stream",
          "name": "stdout",
          "text": [
            "1\t10\n",
            "2\t20\n",
            "3\t30\n",
            "4\t40\n",
            "5\t50\n",
            "6\t60\n",
            "7\t70\n",
            "8\t80\n",
            "9\t90\n",
            "\n"
          ]
        }
      ]
    },
    {
      "cell_type": "code",
      "metadata": {
        "colab": {
          "base_uri": "https://localhost:8080/"
        },
        "id": "BkrZFMtSkGBJ",
        "outputId": "dc786767-9902-4c3e-a005-811a8a168b2f"
      },
      "source": [
        "f=open(\"text.txt\")\n",
        "texts=f.readlines()\n",
        "print(texts)\n",
        "print(texts[0])\n",
        "f.close()"
      ],
      "execution_count": 40,
      "outputs": [
        {
          "output_type": "stream",
          "name": "stdout",
          "text": [
            "['1\\t10\\n', '2\\t20\\n', '3\\t30\\n', '4\\t40\\n', '5\\t50\\n', '6\\t60\\n', '7\\t70\\n', '8\\t80\\n', '9\\t90\\n']\n",
            "1\t10\n",
            "\n"
          ]
        }
      ]
    },
    {
      "cell_type": "code",
      "metadata": {
        "colab": {
          "base_uri": "https://localhost:8080/"
        },
        "id": "nWrDEcVzkn5o",
        "outputId": "1d280b24-340e-4abd-df33-2e22d1ba3ffe"
      },
      "source": [
        "f=open(\"text.txt\")\n",
        "\n",
        "for line in f:\n",
        "    print(line,end='')\n",
        "f.close()"
      ],
      "execution_count": 42,
      "outputs": [
        {
          "output_type": "stream",
          "name": "stdout",
          "text": [
            "1\t10\n",
            "2\t20\n",
            "3\t30\n",
            "4\t40\n",
            "5\t50\n",
            "6\t60\n",
            "7\t70\n",
            "8\t80\n",
            "9\t90\n"
          ]
        }
      ]
    },
    {
      "cell_type": "code",
      "metadata": {
        "colab": {
          "base_uri": "https://localhost:8080/"
        },
        "id": "J1C07UCjL89U",
        "outputId": "563826c4-c95e-4583-f74b-9983e95819c1"
      },
      "source": [
        "with open(\"text.txt\") as f:\n",
        "    data=f.readlines()\n",
        "    for i in data:\n",
        "        print(i,end=\"\")"
      ],
      "execution_count": null,
      "outputs": [
        {
          "output_type": "stream",
          "name": "stdout",
          "text": [
            "1\t10\n",
            "2\t20\n",
            "3\t30\n",
            "4\t40\n",
            "5\t50\n",
            "6\t60\n",
            "7\t70\n",
            "8\t80\n",
            "9\t90\n"
          ]
        }
      ]
    },
    {
      "cell_type": "markdown",
      "metadata": {
        "id": "wF-K6noTL89Y"
      },
      "source": [
        "## 4. Function"
      ]
    },
    {
      "cell_type": "code",
      "metadata": {
        "colab": {
          "base_uri": "https://localhost:8080/"
        },
        "id": "aLJdPWLvL89Y",
        "outputId": "ad34a7ab-8446-46d5-f63d-412afe4fae1e"
      },
      "source": [
        "def add(a,b):\n",
        "    return a+b\n",
        "\n",
        "a=1\n",
        "b=2\n",
        "print(a,\"+\",b,\"=\",add(1,2))\n",
        "\n",
        "value=add(a,b)\n",
        "print(a,\"+\",b,\"=\",value)\n"
      ],
      "execution_count": 43,
      "outputs": [
        {
          "output_type": "stream",
          "name": "stdout",
          "text": [
            "1 + 2 = 3\n",
            "1 + 2 = 3\n"
          ]
        }
      ]
    },
    {
      "cell_type": "code",
      "metadata": {
        "colab": {
          "base_uri": "https://localhost:8080/"
        },
        "id": "uSG7eNb2L89Y",
        "outputId": "ea442572-0682-40cd-b30f-ba783951e69c"
      },
      "source": [
        "def add2(a,b):\n",
        "    print(a,\"+\",b,\"=\",a+b)\n",
        "    return None\n",
        "\n",
        "a=1\n",
        "b=2\n",
        "print(a,\"+\",b,\"=\",add2(1,2))\n",
        "\n",
        "value=add2(a,b)\n",
        "print(a,\"+\",b,\"=\",value)"
      ],
      "execution_count": 46,
      "outputs": [
        {
          "output_type": "stream",
          "name": "stdout",
          "text": [
            "1 + 2 = 3\n",
            "1 + 2 = None\n",
            "1 + 2 = 3\n",
            "1 + 2 = None\n"
          ]
        }
      ]
    },
    {
      "cell_type": "markdown",
      "metadata": {
        "id": "yepfI7Zsar2L"
      },
      "source": [
        "## 5. Import"
      ]
    },
    {
      "cell_type": "code",
      "metadata": {
        "id": "GXS7HxrsL89Y"
      },
      "source": [
        "import numpy as np\n",
        "import scipy as sp\n",
        "import matplotlib.pyplot as plt"
      ],
      "execution_count": 47,
      "outputs": []
    },
    {
      "cell_type": "code",
      "metadata": {
        "colab": {
          "base_uri": "https://localhost:8080/",
          "height": 283
        },
        "id": "mk59B5dRL89Y",
        "outputId": "1e40a84a-a75a-46d5-b235-576521aacc96"
      },
      "source": [
        "plt.plot([1, 2, 8, 4])"
      ],
      "execution_count": 48,
      "outputs": [
        {
          "output_type": "execute_result",
          "data": {
            "text/plain": [
              "[<matplotlib.lines.Line2D at 0x7f14e4370e50>]"
            ]
          },
          "metadata": {},
          "execution_count": 48
        },
        {
          "output_type": "display_data",
          "data": {
            "image/png": "[encoded data removed]",
            "text/plain": [
              "<Figure size 432x288 with 1 Axes>"
            ]
          },
          "metadata": {
            "needs_background": "light"
          }
        }
      ]
    },
    {
      "cell_type": "code",
      "metadata": {
        "id": "2NCmzJ_QnR2_",
        "colab": {
          "base_uri": "https://localhost:8080/",
          "height": 265
        },
        "outputId": "d95f65c5-05cc-45cf-f2dc-d75aac6cfdbb"
      },
      "source": [
        "x=np.arange(0, 6, 0.1)\n",
        "y=np.sin(x)\n",
        "\n",
        "plt.plot(x,y)\n",
        "plt.show()"
      ],
      "execution_count": 49,
      "outputs": [
        {
          "output_type": "display_data",
          "data": {
            "image/png": "[encoded data removed]",
            "text/plain": [
              "<Figure size 432x288 with 1 Axes>"
            ]
          },
          "metadata": {
            "needs_background": "light"
          }
        }
      ]
    },
    {
      "cell_type": "code",
      "metadata": {
        "id": "REpJvJmbL89Y",
        "colab": {
          "base_uri": "https://localhost:8080/"
        },
        "outputId": "feb83d20-4578-4a92-af59-ace1f5fa010b"
      },
      "source": [
        "nsteps=1000\n",
        "rand_normal=np.random.normal(0,1,size=(3,nsteps))\n",
        "print(rand_normal.shape)\n",
        "print(rand_normal[:,:10])"
      ],
      "execution_count": 51,
      "outputs": [
        {
          "output_type": "stream",
          "name": "stdout",
          "text": [
            "(3, 1000)\n",
            "[[-1.16332379 -0.62304271  0.64216087  2.0201946   1.67403902 -0.63560732\n",
            "  -0.37506523  0.33527063  0.79405198  0.15221669]\n",
            " [-0.04624645 -1.31750535  1.17683956  0.5274391  -0.22300596 -0.23556451\n",
            "  -0.87325006  0.06179084 -1.28354673 -0.14568962]\n",
            " [ 0.66969468 -0.03812647  0.08510109 -0.27524481 -1.05975404  0.46593363\n",
            "  -1.26426547  1.8271511   1.15365389  0.71562147]]\n"
          ]
        }
      ]
    },
    {
      "cell_type": "code",
      "metadata": {
        "colab": {
          "base_uri": "https://localhost:8080/",
          "height": 265
        },
        "id": "YTiemUj5sLI4",
        "outputId": "43f5906f-0254-49cf-a1bd-76bcec02a770"
      },
      "source": [
        "plt.plot(rand_normal[0,:20],rand_normal[1,:20], color='royalblue', linewidth=2, \\\n",
        "         marker='^', markersize=10, markeredgewidth=1, markeredgecolor='black', mfc='orange')\n",
        "plt.show()"
      ],
      "execution_count": 54,
      "outputs": [
        {
          "output_type": "display_data",
          "data": {
            "image/png": "[encoded data removed]",
            "text/plain": [
              "<Figure size 432x288 with 1 Axes>"
            ]
          },
          "metadata": {
            "needs_background": "light"
          }
        }
      ]
    },
    {
      "cell_type": "code",
      "metadata": {
        "colab": {
          "base_uri": "https://localhost:8080/",
          "height": 248
        },
        "id": "U0ZEyorIo0Jg",
        "outputId": "4d0a5d63-f19c-40ac-91c9-9ef5c6191ca4"
      },
      "source": [
        "fig=plt.figure()\n",
        "ax=fig.gca(projection='3d')\n",
        "ax.plot(rand_normal[0,:20],rand_normal[1,:20],rand_normal[2,:20])\n",
        "plt.show()"
      ],
      "execution_count": null,
      "outputs": [
        {
          "output_type": "display_data",
          "data": {
            "image/png": "[encoded data removed]",
            "text/plain": [
              "<Figure size 432x288 with 1 Axes>"
            ]
          },
          "metadata": {
            "needs_background": "light"
          }
        }
      ]
    }
  ]
}