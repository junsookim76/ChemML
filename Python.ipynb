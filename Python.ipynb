{
  "nbformat": 4,
  "nbformat_minor": 0,
  "metadata": {
    "kernelspec": {
      "display_name": "Python 3",
      "language": "python",
      "name": "python3"
    },
    "language_info": {
      "codemirror_mode": {
        "name": "ipython",
        "version": 3
      },
      "file_extension": ".py",
      "mimetype": "text/x-python",
      "name": "python",
      "nbconvert_exporter": "python",
      "pygments_lexer": "ipython3",
      "version": "3.7.4"
    },
    "colab": {
      "name": "Python.ipynb",
      "provenance": [],
      "include_colab_link": true
    }
  },
  "cells": [
    {
      "cell_type": "markdown",
      "metadata": {
        "id": "view-in-github",
        "colab_type": "text"
      },
      "source": [
        "<a href=\"https://colab.research.google.com/github/junsookim76/ChemML/blob/main/Python.ipynb\" target=\"_parent\"><img src=\"https://colab.research.google.com/assets/colab-badge.svg\" alt=\"Open In Colab\"/></a>"
      ]
    },
    {
      "cell_type": "markdown",
      "metadata": {
        "id": "BdhpTBPHL89L"
      },
      "source": [
        "# Python"
      ]
    },
    {
      "cell_type": "markdown",
      "metadata": {
        "id": "WrTaxmq1HMkj"
      },
      "source": [
        "## 1.변수"
      ]
    },
    {
      "cell_type": "code",
      "metadata": {
        "colab": {
          "base_uri": "https://localhost:8080/"
        },
        "id": "vZ_Y5A39L89N",
        "outputId": "958f030d-674b-473a-e3ff-fba08256a535"
      },
      "source": [
        "a=31\n",
        "b=24\n",
        "c=a+b\n",
        "print(a,'+',b,\"=\",c)\n",
        "print(a,\"*\",b,\"=\",a*b)\n",
        "print(a,\"/\",b,\"=\",a//b,\"*\",b,\"+\",a%b)"
      ],
      "execution_count": null,
      "outputs": [
        {
          "output_type": "stream",
          "name": "stdout",
          "text": [
            "31 + 24 = 55\n",
            "31 * 24 = 744\n",
            "31 / 24 = 1 * 24 + 7\n"
          ]
        }
      ]
    },
    {
      "cell_type": "code",
      "metadata": {
        "colab": {
          "base_uri": "https://localhost:8080/"
        },
        "id": "zBV_G4P-L89O",
        "outputId": "28eac769-cf6b-4f8a-9d2d-d55af8756f7c"
      },
      "source": [
        "t1=\"this\"\n",
        "t2=\"that\"\n",
        "print(t1,\"is\",t2)"
      ],
      "execution_count": null,
      "outputs": [
        {
          "output_type": "stream",
          "name": "stdout",
          "text": [
            "this is that\n"
          ]
        }
      ]
    },
    {
      "cell_type": "code",
      "metadata": {
        "colab": {
          "base_uri": "https://localhost:8080/"
        },
        "id": "2vVVrWkoL89P",
        "outputId": "a34f2948-fd2c-40a7-e233-605fcc38016a"
      },
      "source": [
        "a=[1,2,3,4,5,6,[1,2,3,4]]\n",
        "print(a[2],a[3],a[-1])"
      ],
      "execution_count": null,
      "outputs": [
        {
          "output_type": "stream",
          "name": "stdout",
          "text": [
            "3 4 [1, 2, 3, 4]\n"
          ]
        }
      ]
    },
    {
      "cell_type": "code",
      "metadata": {
        "colab": {
          "base_uri": "https://localhost:8080/"
        },
        "id": "pgOycdBkL89P",
        "outputId": "a93decad-03d1-4022-d639-70aa0058e1fd"
      },
      "source": [
        "a.copy"
      ],
      "execution_count": null,
      "outputs": [
        {
          "output_type": "execute_result",
          "data": {
            "text/plain": [
              "<function list.copy>"
            ]
          },
          "metadata": {},
          "execution_count": 4
        }
      ]
    },
    {
      "cell_type": "code",
      "metadata": {
        "colab": {
          "base_uri": "https://localhost:8080/"
        },
        "id": "4uK6ShVAL89P",
        "outputId": "510bc610-82ec-4743-d3c2-eca13413ecc2"
      },
      "source": [
        "a.append(10)\n",
        "print(a)"
      ],
      "execution_count": null,
      "outputs": [
        {
          "output_type": "stream",
          "name": "stdout",
          "text": [
            "[1, 2, 3, 4, 5, 6, [1, 2, 3, 4], 10]\n"
          ]
        }
      ]
    },
    {
      "cell_type": "code",
      "metadata": {
        "colab": {
          "base_uri": "https://localhost:8080/"
        },
        "id": "dWywfdW4L89P",
        "outputId": "8797ee96-561c-426d-f989-1d1b32912ee0"
      },
      "source": [
        "a.remove([1, 2, 3, 4])\n",
        "print(a)"
      ],
      "execution_count": null,
      "outputs": [
        {
          "output_type": "stream",
          "name": "stdout",
          "text": [
            "[1, 2, 3, 4, 5, 6, 10]\n"
          ]
        }
      ]
    },
    {
      "cell_type": "code",
      "metadata": {
        "colab": {
          "base_uri": "https://localhost:8080/"
        },
        "id": "y1Wxia6dL89Q",
        "outputId": "47362de0-5434-4324-9533-c87c88511fdd"
      },
      "source": [
        "print(t1[1])\n",
        "print(t1+t2)\n",
        "print(len(\"21\"+\"1 24\"))"
      ],
      "execution_count": null,
      "outputs": [
        {
          "output_type": "stream",
          "name": "stdout",
          "text": [
            "h\n",
            "thisthat\n",
            "6\n"
          ]
        }
      ]
    },
    {
      "cell_type": "code",
      "metadata": {
        "colab": {
          "base_uri": "https://localhost:8080/"
        },
        "id": "yPTWXkFiL89Q",
        "outputId": "83670a79-e477-4a72-8eaf-b2a1bffe39f6"
      },
      "source": [
        "a={1:\"Jan\",2:\"Feb\",\"date\":\"Mar\"}\n",
        "print(a[1])"
      ],
      "execution_count": null,
      "outputs": [
        {
          "output_type": "stream",
          "name": "stdout",
          "text": [
            "Jan\n"
          ]
        }
      ]
    },
    {
      "cell_type": "code",
      "metadata": {
        "colab": {
          "base_uri": "https://localhost:8080/"
        },
        "id": "HhO71Qi1L89R",
        "outputId": "afc9918b-76b4-452a-d152-615187027911"
      },
      "source": [
        "print(a[1]+\" and \"+a[\"date\"])"
      ],
      "execution_count": null,
      "outputs": [
        {
          "output_type": "stream",
          "name": "stdout",
          "text": [
            "Jan and Mar\n"
          ]
        }
      ]
    },
    {
      "cell_type": "code",
      "metadata": {
        "colab": {
          "base_uri": "https://localhost:8080/"
        },
        "id": "ijJ48hrOL89R",
        "outputId": "a750af61-aae9-4903-bf88-35d13ab292b5"
      },
      "source": [
        "a[10]=\"Oct\"\n",
        "print(a[10],\",dict is \",a)"
      ],
      "execution_count": null,
      "outputs": [
        {
          "output_type": "stream",
          "name": "stdout",
          "text": [
            "Oct ,dict is  {1: 'Jan', 2: 'Feb', 'date': 'Mar', 10: 'Oct'}\n"
          ]
        }
      ]
    },
    {
      "cell_type": "markdown",
      "metadata": {
        "id": "kDzjF3xhL89S"
      },
      "source": [
        "## 2.Loop/If"
      ]
    },
    {
      "cell_type": "code",
      "metadata": {
        "colab": {
          "base_uri": "https://localhost:8080/"
        },
        "id": "S1UuUtDJL89S",
        "outputId": "6d1063fb-cf35-4334-8eeb-9843ddff32a9"
      },
      "source": [
        "for i in [1,2,3,4,5,129]:\n",
        "    print(i)"
      ],
      "execution_count": null,
      "outputs": [
        {
          "output_type": "stream",
          "name": "stdout",
          "text": [
            "1\n",
            "2\n",
            "3\n",
            "4\n",
            "5\n",
            "129\n"
          ]
        }
      ]
    },
    {
      "cell_type": "code",
      "metadata": {
        "colab": {
          "base_uri": "https://localhost:8080/"
        },
        "id": "a5LOKMOFL89S",
        "outputId": "a3062e53-8bd9-4e61-a1ca-d3f57bea3799"
      },
      "source": [
        "a=[1,2,3,4,5,6,7,8,9,10]\n",
        "for i in a[:8]:\n",
        "    print(i)"
      ],
      "execution_count": null,
      "outputs": [
        {
          "output_type": "stream",
          "name": "stdout",
          "text": [
            "1\n",
            "2\n",
            "3\n",
            "4\n",
            "5\n",
            "6\n",
            "7\n",
            "8\n"
          ]
        }
      ]
    },
    {
      "cell_type": "code",
      "metadata": {
        "colab": {
          "base_uri": "https://localhost:8080/"
        },
        "id": "L3TGnsT-L89T",
        "outputId": "39d21058-77b9-45c1-d9d1-c2e26d42deea"
      },
      "source": [
        "for i in range(3,100,10):\n",
        "    print(i)"
      ],
      "execution_count": null,
      "outputs": [
        {
          "output_type": "stream",
          "name": "stdout",
          "text": [
            "3\n",
            "13\n",
            "23\n",
            "33\n",
            "43\n",
            "53\n",
            "63\n",
            "73\n",
            "83\n",
            "93\n"
          ]
        }
      ]
    },
    {
      "cell_type": "code",
      "metadata": {
        "colab": {
          "base_uri": "https://localhost:8080/"
        },
        "id": "wwiYRqafL89T",
        "outputId": "417f49dd-cfc5-4ff7-c434-206d2bed1e07"
      },
      "source": [
        "a=0\n",
        "while(a<5):\n",
        "    print(a)\n",
        "    a+=1"
      ],
      "execution_count": null,
      "outputs": [
        {
          "output_type": "stream",
          "name": "stdout",
          "text": [
            "0\n",
            "1\n",
            "2\n",
            "3\n",
            "4\n"
          ]
        }
      ]
    },
    {
      "cell_type": "code",
      "metadata": {
        "colab": {
          "base_uri": "https://localhost:8080/"
        },
        "id": "mdMqlDXgL89T",
        "outputId": "799548bb-6b6e-4579-9d32-8556aa17a8c5"
      },
      "source": [
        "a=0\n",
        "while(a<10):\n",
        "    print(a)\n",
        "    a+=1\n",
        "    if(a==7):\n",
        "        break"
      ],
      "execution_count": null,
      "outputs": [
        {
          "output_type": "stream",
          "name": "stdout",
          "text": [
            "0\n",
            "1\n",
            "2\n",
            "3\n",
            "4\n",
            "5\n",
            "6\n"
          ]
        }
      ]
    },
    {
      "cell_type": "markdown",
      "metadata": {
        "id": "0wsfNmQ-L89T"
      },
      "source": [
        "## Quiz1. 2,8 구구단을 출력해 보세요"
      ]
    },
    {
      "cell_type": "code",
      "metadata": {
        "colab": {
          "base_uri": "https://localhost:8080/"
        },
        "id": "A-DWBDQJL89T",
        "outputId": "0be03433-22ce-4fcd-9133-fc0186e82095"
      },
      "source": [
        "for i in range(1,10):\n",
        "    for j in [2,8]:\n",
        "        print(j,\"*\",i,\"=\",j*i,end=\"\\t\")\n",
        "    print()"
      ],
      "execution_count": null,
      "outputs": [
        {
          "output_type": "stream",
          "name": "stdout",
          "text": [
            "2 * 1 = 2\t8 * 1 = 8\t\n",
            "2 * 2 = 4\t8 * 2 = 16\t\n",
            "2 * 3 = 6\t8 * 3 = 24\t\n",
            "2 * 4 = 8\t8 * 4 = 32\t\n",
            "2 * 5 = 10\t8 * 5 = 40\t\n",
            "2 * 6 = 12\t8 * 6 = 48\t\n",
            "2 * 7 = 14\t8 * 7 = 56\t\n",
            "2 * 8 = 16\t8 * 8 = 64\t\n",
            "2 * 9 = 18\t8 * 9 = 72\t\n"
          ]
        }
      ]
    },
    {
      "cell_type": "markdown",
      "metadata": {
        "id": "sMqUYPSBL89T"
      },
      "source": [
        "## Quiz2. 1에서 100까지 중 소수만을 더해 출력해 보세요"
      ]
    },
    {
      "cell_type": "code",
      "metadata": {
        "collapsed": true,
        "jupyter": {
          "outputs_hidden": true
        },
        "colab": {
          "base_uri": "https://localhost:8080/"
        },
        "id": "WZNBQ9-1L89U",
        "outputId": "b423a82b-0176-4683-dd87-ce36fc7e5f36"
      },
      "source": [
        "for i in range(1,101):\n",
        "    for j in range(1,int(i/2)):\n",
        "        if(i%j!=0):\n",
        "            print(i,j,i)\n",
        "            break\n",
        "        print()"
      ],
      "execution_count": null,
      "outputs": [
        {
          "output_type": "stream",
          "name": "stdout",
          "text": [
            "\n",
            "\n",
            "\n",
            "\n",
            "\n",
            "7 2 7\n",
            "\n",
            "\n",
            "8 3 8\n",
            "\n",
            "9 2 9\n",
            "\n",
            "\n",
            "10 3 10\n",
            "\n",
            "11 2 11\n",
            "\n",
            "\n",
            "\n",
            "\n",
            "12 5 12\n",
            "\n",
            "13 2 13\n",
            "\n",
            "\n",
            "14 3 14\n",
            "\n",
            "15 2 15\n",
            "\n",
            "\n",
            "16 3 16\n",
            "\n",
            "17 2 17\n",
            "\n",
            "\n",
            "\n",
            "18 4 18\n",
            "\n",
            "19 2 19\n",
            "\n",
            "\n",
            "20 3 20\n",
            "\n",
            "21 2 21\n",
            "\n",
            "\n",
            "22 3 22\n",
            "\n",
            "23 2 23\n",
            "\n",
            "\n",
            "\n",
            "\n",
            "24 5 24\n",
            "\n",
            "25 2 25\n",
            "\n",
            "\n",
            "26 3 26\n",
            "\n",
            "27 2 27\n",
            "\n",
            "\n",
            "28 3 28\n",
            "\n",
            "29 2 29\n",
            "\n",
            "\n",
            "\n",
            "30 4 30\n",
            "\n",
            "31 2 31\n",
            "\n",
            "\n",
            "32 3 32\n",
            "\n",
            "33 2 33\n",
            "\n",
            "\n",
            "34 3 34\n",
            "\n",
            "35 2 35\n",
            "\n",
            "\n",
            "\n",
            "\n",
            "36 5 36\n",
            "\n",
            "37 2 37\n",
            "\n",
            "\n",
            "38 3 38\n",
            "\n",
            "39 2 39\n",
            "\n",
            "\n",
            "40 3 40\n",
            "\n",
            "41 2 41\n",
            "\n",
            "\n",
            "\n",
            "42 4 42\n",
            "\n",
            "43 2 43\n",
            "\n",
            "\n",
            "44 3 44\n",
            "\n",
            "45 2 45\n",
            "\n",
            "\n",
            "46 3 46\n",
            "\n",
            "47 2 47\n",
            "\n",
            "\n",
            "\n",
            "\n",
            "48 5 48\n",
            "\n",
            "49 2 49\n",
            "\n",
            "\n",
            "50 3 50\n",
            "\n",
            "51 2 51\n",
            "\n",
            "\n",
            "52 3 52\n",
            "\n",
            "53 2 53\n",
            "\n",
            "\n",
            "\n",
            "54 4 54\n",
            "\n",
            "55 2 55\n",
            "\n",
            "\n",
            "56 3 56\n",
            "\n",
            "57 2 57\n",
            "\n",
            "\n",
            "58 3 58\n",
            "\n",
            "59 2 59\n",
            "\n",
            "\n",
            "\n",
            "\n",
            "\n",
            "\n",
            "60 7 60\n",
            "\n",
            "61 2 61\n",
            "\n",
            "\n",
            "62 3 62\n",
            "\n",
            "63 2 63\n",
            "\n",
            "\n",
            "64 3 64\n",
            "\n",
            "65 2 65\n",
            "\n",
            "\n",
            "\n",
            "66 4 66\n",
            "\n",
            "67 2 67\n",
            "\n",
            "\n",
            "68 3 68\n",
            "\n",
            "69 2 69\n",
            "\n",
            "\n",
            "70 3 70\n",
            "\n",
            "71 2 71\n",
            "\n",
            "\n",
            "\n",
            "\n",
            "72 5 72\n",
            "\n",
            "73 2 73\n",
            "\n",
            "\n",
            "74 3 74\n",
            "\n",
            "75 2 75\n",
            "\n",
            "\n",
            "76 3 76\n",
            "\n",
            "77 2 77\n",
            "\n",
            "\n",
            "\n",
            "78 4 78\n",
            "\n",
            "79 2 79\n",
            "\n",
            "\n",
            "80 3 80\n",
            "\n",
            "81 2 81\n",
            "\n",
            "\n",
            "82 3 82\n",
            "\n",
            "83 2 83\n",
            "\n",
            "\n",
            "\n",
            "\n",
            "84 5 84\n",
            "\n",
            "85 2 85\n",
            "\n",
            "\n",
            "86 3 86\n",
            "\n",
            "87 2 87\n",
            "\n",
            "\n",
            "88 3 88\n",
            "\n",
            "89 2 89\n",
            "\n",
            "\n",
            "\n",
            "90 4 90\n",
            "\n",
            "91 2 91\n",
            "\n",
            "\n",
            "92 3 92\n",
            "\n",
            "93 2 93\n",
            "\n",
            "\n",
            "94 3 94\n",
            "\n",
            "95 2 95\n",
            "\n",
            "\n",
            "\n",
            "\n",
            "96 5 96\n",
            "\n",
            "97 2 97\n",
            "\n",
            "\n",
            "98 3 98\n",
            "\n",
            "99 2 99\n",
            "\n",
            "\n",
            "100 3 100\n"
          ]
        }
      ]
    },
    {
      "cell_type": "code",
      "metadata": {
        "id": "b9vu6-zqL89U"
      },
      "source": [
        "a=list(range(2,101))\n",
        "to_remove=[]\n",
        "for i in a:\n",
        "    for j in a[i+1:]:\n",
        "        if(j%i==0):\n",
        "            to_remove.append(j)"
      ],
      "execution_count": null,
      "outputs": []
    },
    {
      "cell_type": "code",
      "metadata": {
        "collapsed": true,
        "jupyter": {
          "outputs_hidden": true
        },
        "colab": {
          "base_uri": "https://localhost:8080/"
        },
        "id": "bz5jrlbgL89U",
        "outputId": "398eff98-cb52-4f8a-da9f-1c1466856bd1"
      },
      "source": [
        "set(to_remove)"
      ],
      "execution_count": null,
      "outputs": [
        {
          "output_type": "execute_result",
          "data": {
            "text/plain": [
              "{6,\n",
              " 8,\n",
              " 9,\n",
              " 10,\n",
              " 12,\n",
              " 14,\n",
              " 15,\n",
              " 16,\n",
              " 18,\n",
              " 20,\n",
              " 21,\n",
              " 22,\n",
              " 24,\n",
              " 25,\n",
              " 26,\n",
              " 27,\n",
              " 28,\n",
              " 30,\n",
              " 32,\n",
              " 33,\n",
              " 34,\n",
              " 35,\n",
              " 36,\n",
              " 38,\n",
              " 39,\n",
              " 40,\n",
              " 42,\n",
              " 44,\n",
              " 45,\n",
              " 46,\n",
              " 48,\n",
              " 49,\n",
              " 50,\n",
              " 51,\n",
              " 52,\n",
              " 54,\n",
              " 55,\n",
              " 56,\n",
              " 57,\n",
              " 58,\n",
              " 60,\n",
              " 62,\n",
              " 63,\n",
              " 64,\n",
              " 65,\n",
              " 66,\n",
              " 68,\n",
              " 69,\n",
              " 70,\n",
              " 72,\n",
              " 74,\n",
              " 75,\n",
              " 76,\n",
              " 77,\n",
              " 78,\n",
              " 80,\n",
              " 81,\n",
              " 82,\n",
              " 84,\n",
              " 85,\n",
              " 86,\n",
              " 87,\n",
              " 88,\n",
              " 90,\n",
              " 91,\n",
              " 92,\n",
              " 93,\n",
              " 94,\n",
              " 95,\n",
              " 96,\n",
              " 98,\n",
              " 99,\n",
              " 100}"
            ]
          },
          "metadata": {},
          "execution_count": 19
        }
      ]
    },
    {
      "cell_type": "code",
      "metadata": {
        "colab": {
          "base_uri": "https://localhost:8080/"
        },
        "id": "3L_BIdyTL89U",
        "outputId": "f527bf99-c57f-459c-bee4-b33424bfa07f"
      },
      "source": [
        "for i in set(to_remove):\n",
        "    a.remove(i)\n",
        "print(a)\n",
        "sum(a)"
      ],
      "execution_count": null,
      "outputs": [
        {
          "output_type": "stream",
          "name": "stdout",
          "text": [
            "[2, 3, 4, 5, 7, 11, 13, 17, 19, 23, 29, 31, 37, 41, 43, 47, 53, 59, 61, 67, 71, 73, 79, 83, 89, 97]\n"
          ]
        },
        {
          "output_type": "execute_result",
          "data": {
            "text/plain": [
              "1064"
            ]
          },
          "metadata": {},
          "execution_count": 20
        }
      ]
    },
    {
      "cell_type": "markdown",
      "metadata": {
        "id": "vIlUyyLAL89U"
      },
      "source": [
        "## 3.IO"
      ]
    },
    {
      "cell_type": "code",
      "metadata": {
        "id": "VcPFDVIkL89U"
      },
      "source": [
        "f=open(\"text.txt\",\"w\")\n",
        "for i in range(1,10):\n",
        "    f.write(str(i))\n",
        "    f.write(\"\\t\")\n",
        "    f.write(str(i*10))\n",
        "    f.write(\"\\n\")\n",
        "f.close()"
      ],
      "execution_count": null,
      "outputs": []
    },
    {
      "cell_type": "code",
      "metadata": {
        "colab": {
          "base_uri": "https://localhost:8080/"
        },
        "id": "J1C07UCjL89U",
        "outputId": "1f19280e-2150-4a46-972a-31945059d1e9"
      },
      "source": [
        "with open(\"text.txt\") as f:\n",
        "    data=f.readlines()\n",
        "    for i in data:\n",
        "        print(i,end=\"\")"
      ],
      "execution_count": null,
      "outputs": [
        {
          "output_type": "stream",
          "name": "stdout",
          "text": [
            "1\t10\n",
            "2\t20\n",
            "3\t30\n",
            "4\t40\n",
            "5\t50\n",
            "6\t60\n",
            "7\t70\n",
            "8\t80\n",
            "9\t90\n"
          ]
        }
      ]
    },
    {
      "cell_type": "code",
      "metadata": {
        "id": "auPjbpOTL89U"
      },
      "source": [
        "newline=data[0][:-1]"
      ],
      "execution_count": null,
      "outputs": []
    },
    {
      "cell_type": "code",
      "metadata": {
        "colab": {
          "base_uri": "https://localhost:8080/"
        },
        "id": "Kawltk89L89Y",
        "outputId": "8147d6ef-9f54-43b0-a7e3-65893f302cf5"
      },
      "source": [
        "data_python={}\n",
        "for i in data:\n",
        "    strings=i.split()\n",
        "    data_python[int(strings[0])]=int(strings[-1])\n",
        "data_python"
      ],
      "execution_count": null,
      "outputs": [
        {
          "output_type": "execute_result",
          "data": {
            "text/plain": [
              "{1: 10, 2: 20, 3: 30, 4: 40, 5: 50, 6: 60, 7: 70, 8: 80, 9: 90}"
            ]
          },
          "metadata": {},
          "execution_count": 24
        }
      ]
    },
    {
      "cell_type": "markdown",
      "metadata": {
        "id": "wF-K6noTL89Y"
      },
      "source": [
        "## 4.Function/import"
      ]
    },
    {
      "cell_type": "code",
      "metadata": {
        "colab": {
          "base_uri": "https://localhost:8080/"
        },
        "id": "aLJdPWLvL89Y",
        "outputId": "de7e3011-020b-4a91-b841-6cc64982bd55"
      },
      "source": [
        "def add(a,b):\n",
        "    return a+b\n",
        "a=1\n",
        "b=2\n",
        "print(a,\"+\",b,\"=\",add(a,b))"
      ],
      "execution_count": null,
      "outputs": [
        {
          "output_type": "stream",
          "name": "stdout",
          "text": [
            "1 + 2 = 3\n"
          ]
        }
      ]
    },
    {
      "cell_type": "code",
      "metadata": {
        "colab": {
          "base_uri": "https://localhost:8080/"
        },
        "id": "uSG7eNb2L89Y",
        "outputId": "f8e9aa04-5eb1-4f6c-a4f6-1db6833a3a84"
      },
      "source": [
        "def add2(a,b=7):\n",
        "    print(a,\"+\",b,\"=\",a+b)\n",
        "    return None\n",
        "add2(1,2)"
      ],
      "execution_count": null,
      "outputs": [
        {
          "output_type": "stream",
          "name": "stdout",
          "text": [
            "1 + 2 = 3\n"
          ]
        }
      ]
    },
    {
      "cell_type": "code",
      "metadata": {
        "colab": {
          "base_uri": "https://localhost:8080/"
        },
        "id": "rrhH-pdpL89Y",
        "outputId": "82e91282-bf36-4935-aad5-c65b4a5607f0"
      },
      "source": [
        "value=add2(1,5)"
      ],
      "execution_count": null,
      "outputs": [
        {
          "output_type": "stream",
          "name": "stdout",
          "text": [
            "1 + 5 = 6\n"
          ]
        }
      ]
    },
    {
      "cell_type": "code",
      "metadata": {
        "id": "Fo-CETy8L89Y"
      },
      "source": [
        "value"
      ],
      "execution_count": null,
      "outputs": []
    },
    {
      "cell_type": "code",
      "metadata": {
        "id": "GXS7HxrsL89Y"
      },
      "source": [
        "import numpy as np\n",
        "import scipy as sp\n",
        "import matplotlib.pyplot as plt"
      ],
      "execution_count": null,
      "outputs": []
    },
    {
      "cell_type": "code",
      "metadata": {
        "colab": {
          "base_uri": "https://localhost:8080/",
          "height": 282
        },
        "id": "mk59B5dRL89Y",
        "outputId": "3a30cbb3-6959-4b28-a8aa-b1529a2b407c"
      },
      "source": [
        "plt.plot([1, 2, 8, 4])"
      ],
      "execution_count": null,
      "outputs": [
        {
          "output_type": "execute_result",
          "data": {
            "text/plain": [
              "[<matplotlib.lines.Line2D at 0x7efe6c44d0d0>]"
            ]
          },
          "metadata": {},
          "execution_count": 30
        },
        {
          "output_type": "display_data",
          "data": {
            "image/png": "[encoded data removed]",
            "text/plain": [
              "<Figure size 432x288 with 1 Axes>"
            ]
          },
          "metadata": {
            "needs_background": "light"
          }
        }
      ]
    },
    {
      "cell_type": "code",
      "metadata": {
        "id": "REpJvJmbL89Y"
      },
      "source": [
        "to_create=1000\n",
        "rand_normal=np.random.normal(0,1,size=(3,to_create))\n",
        "time=np.arange(0,to_create)/np.pi\n",
        "sin1=np.sin(time+rand_normal[0]*0.04)*4\n",
        "sin2=np.sin(time*3+rand_normal[1]*0.04)\n",
        "data=sin1+sin2+0.07*rand_normal[2]"
      ],
      "execution_count": null,
      "outputs": []
    },
    {
      "cell_type": "code",
      "metadata": {
        "colab": {
          "base_uri": "https://localhost:8080/",
          "height": 284
        },
        "id": "ytDjZ-bLL89Y",
        "outputId": "a4e47193-5fb8-44a3-fd56-bb03706d368a"
      },
      "source": [
        "plt.plot(data[:100])"
      ],
      "execution_count": null,
      "outputs": [
        {
          "output_type": "execute_result",
          "data": {
            "text/plain": [
              "[<matplotlib.lines.Line2D at 0x7efe6bc2f250>]"
            ]
          },
          "metadata": {},
          "execution_count": 32
        },
        {
          "output_type": "display_data",
          "data": {
            "image/png": "[encoded data removed]",
            "text/plain": [
              "<Figure size 432x288 with 1 Axes>"
            ]
          },
          "metadata": {
            "needs_background": "light"
          }
        }
      ]
    },
    {
      "cell_type": "code",
      "metadata": {
        "id": "-6lll54BL89Z"
      },
      "source": [
        "a=list(range(1,100))\n",
        "b=a*2"
      ],
      "execution_count": null,
      "outputs": []
    },
    {
      "cell_type": "code",
      "metadata": {
        "id": "p-PypfwCL89Z"
      },
      "source": [
        ""
      ],
      "execution_count": null,
      "outputs": []
    }
  ]
}