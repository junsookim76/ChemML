{
  "nbformat": 4,
  "nbformat_minor": 0,
  "metadata": {
    "kernelspec": {
      "display_name": "Python 3",
      "language": "python",
      "name": "python3"
    },
    "language_info": {
      "codemirror_mode": {
        "name": "ipython",
        "version": 3
      },
      "file_extension": ".py",
      "mimetype": "text/x-python",
      "name": "python",
      "nbconvert_exporter": "python",
      "pygments_lexer": "ipython3",
      "version": "3.7.4"
    },
    "colab": {
      "name": "Python.ipynb",
      "provenance": [],
      "include_colab_link": true
    }
  },
  "cells": [
    {
      "cell_type": "markdown",
      "metadata": {
        "id": "view-in-github",
        "colab_type": "text"
      },
      "source": [
        "<a href=\"https://colab.research.google.com/github/junsookim76/ChemML/blob/main/Python.ipynb\" target=\"_parent\"><img src=\"https://colab.research.google.com/assets/colab-badge.svg\" alt=\"Open In Colab\"/></a>"
      ]
    },
    {
      "cell_type": "markdown",
      "metadata": {
        "id": "BdhpTBPHL89L"
      },
      "source": [
        "# Python"
      ]
    },
    {
      "cell_type": "markdown",
      "metadata": {
        "id": "v1rnFvDeJB0T"
      },
      "source": [
        "## Before we start,"
      ]
    },
    {
      "cell_type": "code",
      "metadata": {
        "id": "uLFrq_hOJDvX"
      },
      "source": [
        "import this"
      ],
      "execution_count": 2,
      "outputs": []
    },
    {
      "cell_type": "markdown",
      "metadata": {
        "id": "WrTaxmq1HMkj"
      },
      "source": [
        "## 1.변수"
      ]
    },
    {
      "cell_type": "markdown",
      "metadata": {
        "id": "cOwSVS7gRZ-A"
      },
      "source": [
        "### 정수와 실수, 그리고 문자열 변수"
      ]
    },
    {
      "cell_type": "code",
      "metadata": {
        "colab": {
          "base_uri": "https://localhost:8080/",
          "height": 0
        },
        "id": "vZ_Y5A39L89N",
        "outputId": "2e4b93b5-bf70-4442-c44e-b161865c270b"
      },
      "source": [
        "a=31\n",
        "b=24\n",
        "c=a+b\n",
        "\n",
        "print(a,'+',b,\"=\",c)\n",
        "print(a,\"*\",b,\"=\",a*b)\n",
        "print(a,\"/\",b,\"=\",a//b,\"*\",b,\"+\",a%b)\n",
        "\n",
        "print(\"%d + %d = %d\" %(a,b,c))\n",
        "print(\"%d * %d = %d\" %(a,b,a*b))\n",
        "print(\"%d / %d = %d * %d + %d\" %(a,b,a//b,b,a%b))"
      ],
      "execution_count": 3,
      "outputs": [
        {
          "output_type": "stream",
          "name": "stdout",
          "text": [
            "31 + 24 = 55\n",
            "31 * 24 = 744\n",
            "31 / 24 = 1 * 24 + 7\n",
            "31 + 24 = 55\n",
            "31 * 24 = 744\n",
            "31 / 24 = 1 * 24 + 7\n"
          ]
        }
      ]
    },
    {
      "cell_type": "code",
      "metadata": {
        "colab": {
          "base_uri": "https://localhost:8080/",
          "height": 0
        },
        "id": "72ZgItfKMTxp",
        "outputId": "15d5f6ad-fc09-4411-dd68-8d6e7e44797b"
      },
      "source": [
        "i1=39.\n",
        "i2=939.\n",
        "i3=i2//i1\n",
        "i4=i1**2\n",
        "\n",
        "i5=4\n",
        "i6=2.0\n",
        "i7=i5*i6\n",
        "i8=i5**0.5\n",
        "\n",
        "print(i2,'//',i1,'=',i3)\n",
        "print(i1,'**2=',i4)\n",
        "print(i5,'*',i6,'=',i7)\n",
        "print(\"sqrt(\",i5,\")=\",i8)"
      ],
      "execution_count": 19,
      "outputs": [
        {
          "output_type": "stream",
          "name": "stdout",
          "text": [
            "939.0 // 39.0 = 24.0\n",
            "39.0 **2= 1521.0\n",
            "4 * 2.0 = 8.0\n",
            "sqrt( 4 )= 2.0\n"
          ]
        }
      ]
    },
    {
      "cell_type": "code",
      "metadata": {
        "colab": {
          "base_uri": "https://localhost:8080/",
          "height": 0
        },
        "id": "zBV_G4P-L89O",
        "outputId": "fc77c886-46d1-4c16-b48b-9778509984b3"
      },
      "source": [
        "t1=\"this\"\n",
        "t2=\"that\"\n",
        "\n",
        "print(t1,\"is\",t2)\n",
        "\n",
        "print(\"%s is %s\" %(t1,t2))"
      ],
      "execution_count": 4,
      "outputs": [
        {
          "output_type": "stream",
          "name": "stdout",
          "text": [
            "this is that\n",
            "this is that\n"
          ]
        }
      ]
    },
    {
      "cell_type": "code",
      "metadata": {
        "colab": {
          "base_uri": "https://localhost:8080/"
        },
        "id": "y1Wxia6dL89Q",
        "outputId": "56f25155-76ad-4dd1-de62-32734564056e"
      },
      "source": [
        "print(t1[1])\n",
        "print(t1+t2)\n",
        "print(len(\"21\"+\"1 24\"))"
      ],
      "execution_count": null,
      "outputs": [
        {
          "output_type": "stream",
          "name": "stdout",
          "text": [
            "h\n",
            "thisthat\n",
            "6\n"
          ]
        }
      ]
    },
    {
      "cell_type": "markdown",
      "metadata": {
        "id": "nUtaopoERgNv"
      },
      "source": [
        "### 리스트\u0003"
      ]
    },
    {
      "cell_type": "code",
      "metadata": {
        "colab": {
          "base_uri": "https://localhost:8080/",
          "height": 0
        },
        "id": "2vVVrWkoL89P",
        "outputId": "19825d6d-755c-4934-ef2f-f44312de5d26"
      },
      "source": [
        "a=[1,2,3,4,5,6,[1,2,3,4]]\n",
        "print(a[2],a[3],a[-1])"
      ],
      "execution_count": 9,
      "outputs": [
        {
          "output_type": "stream",
          "name": "stdout",
          "text": [
            "3 4 [1, 2, 3, 4]\n"
          ]
        }
      ]
    },
    {
      "cell_type": "code",
      "metadata": {
        "colab": {
          "base_uri": "https://localhost:8080/",
          "height": 0
        },
        "id": "7lQaVOkvL4X0",
        "outputId": "8f374602-a95e-443b-ae31-930e68c749d9"
      },
      "source": [
        "print(type(a))\n",
        "print(type(b))\n",
        "print(type(i1))\n",
        "print(type(i7))\n",
        "print(type(t1))"
      ],
      "execution_count": 21,
      "outputs": [
        {
          "output_type": "stream",
          "name": "stdout",
          "text": [
            "<class 'list'>\n",
            "<class 'int'>\n",
            "<class 'float'>\n",
            "<class 'float'>\n",
            "<class 'str'>\n"
          ]
        }
      ]
    },
    {
      "cell_type": "code",
      "metadata": {
        "colab": {
          "base_uri": "https://localhost:8080/",
          "height": 0
        },
        "id": "4uK6ShVAL89P",
        "outputId": "1231a3ae-96a1-4693-e8ff-fbe8c661b314"
      },
      "source": [
        "a.append(10)\n",
        "print(a)"
      ],
      "execution_count": 22,
      "outputs": [
        {
          "output_type": "stream",
          "name": "stdout",
          "text": [
            "[1, 2, 3, 4, 5, 6, [1, 2, 3, 4], 10]\n"
          ]
        }
      ]
    },
    {
      "cell_type": "code",
      "metadata": {
        "colab": {
          "base_uri": "https://localhost:8080/",
          "height": 0
        },
        "id": "dWywfdW4L89P",
        "outputId": "3ce3d44f-0140-49e5-b0d5-60c55a7b0d69"
      },
      "source": [
        "a.remove([1, 2, 3, 4])\n",
        "print(a)"
      ],
      "execution_count": 23,
      "outputs": [
        {
          "output_type": "stream",
          "name": "stdout",
          "text": [
            "[1, 2, 3, 4, 5, 6, 10]\n"
          ]
        }
      ]
    },
    {
      "cell_type": "code",
      "metadata": {
        "colab": {
          "base_uri": "https://localhost:8080/",
          "height": 0
        },
        "id": "p-gBUMe7PCln",
        "outputId": "6cbcd647-1d8b-42c1-b65f-e16f3b6b994b"
      },
      "source": [
        "print(len(a))\n",
        "print(a[0],a[-1],a[6])\n",
        "print(a[:2],a[1:2],a[2::2])"
      ],
      "execution_count": 33,
      "outputs": [
        {
          "output_type": "stream",
          "name": "stdout",
          "text": [
            "7\n",
            "1 10 10\n",
            "[1, 2] [2] [3, 5, 10]\n"
          ]
        }
      ]
    },
    {
      "cell_type": "code",
      "metadata": {
        "colab": {
          "base_uri": "https://localhost:8080/",
          "height": 0
        },
        "id": "rV6jlTqePldN",
        "outputId": "b761ade7-0422-4077-a22b-0772fa558642"
      },
      "source": [
        "a1=[1,2,3]\n",
        "a2=[4,5,6]\n",
        "\n",
        "print('a1+a2=',a1+a2)\n",
        "print('a1*3=',a1*3)"
      ],
      "execution_count": 30,
      "outputs": [
        {
          "output_type": "stream",
          "name": "stdout",
          "text": [
            "a1+a2= [1, 2, 3, 4, 5, 6]\n",
            "a1*3= [1, 2, 3, 1, 2, 3, 1, 2, 3]\n"
          ]
        }
      ]
    },
    {
      "cell_type": "markdown",
      "metadata": {
        "id": "PFghXEapRjsp"
      },
      "source": [
        "### 딕셔너리"
      ]
    },
    {
      "cell_type": "code",
      "metadata": {
        "id": "phTyBvmJlF-J",
        "outputId": "9ba56f0d-6a39-4b55-eee4-9c35d73a8e1f",
        "colab": {
          "base_uri": "https://localhost:8080/",
          "height": 130
        }
      },
      "source": [
        "sr={abc1=\"JAN\",abc2=\"FEb\"}\n",
        "print(sr[abc1])"
      ],
      "execution_count": 74,
      "outputs": [
        {
          "output_type": "error",
          "ename": "SyntaxError",
          "evalue": "ignored",
          "traceback": [
            "\u001b[0;36m  File \u001b[0;32m\"<ipython-input-74-9774aeda6b6b>\"\u001b[0;36m, line \u001b[0;32m1\u001b[0m\n\u001b[0;31m    sr={abc1=\"JAN\",abc2=\"FEb\"}\u001b[0m\n\u001b[0m            ^\u001b[0m\n\u001b[0;31mSyntaxError\u001b[0m\u001b[0;31m:\u001b[0m invalid syntax\n"
          ]
        }
      ]
    },
    {
      "cell_type": "code",
      "metadata": {
        "colab": {
          "base_uri": "https://localhost:8080/",
          "height": 0
        },
        "id": "yPTWXkFiL89Q",
        "outputId": "10717151-4ef0-499c-d441-582c243295cc"
      },
      "source": [
        "a={1:\"Jan\",2:\"Feb\",\"date\":\"Mar\"}\n",
        "print(a[1])"
      ],
      "execution_count": 34,
      "outputs": [
        {
          "output_type": "stream",
          "name": "stdout",
          "text": [
            "Jan\n"
          ]
        }
      ]
    },
    {
      "cell_type": "code",
      "metadata": {
        "colab": {
          "base_uri": "https://localhost:8080/",
          "height": 0
        },
        "id": "HhO71Qi1L89R",
        "outputId": "3ec5399b-bbc9-49bc-d3cf-c0a519f82efb"
      },
      "source": [
        "print(a[1]+\" and \"+a[\"date\"])"
      ],
      "execution_count": 35,
      "outputs": [
        {
          "output_type": "stream",
          "name": "stdout",
          "text": [
            "Jan and Mar\n"
          ]
        }
      ]
    },
    {
      "cell_type": "code",
      "metadata": {
        "colab": {
          "base_uri": "https://localhost:8080/",
          "height": 0
        },
        "id": "ijJ48hrOL89R",
        "outputId": "b88d9acd-245c-4da7-f09f-e6cbce14a89c"
      },
      "source": [
        "a[10]=\"Oct\"\n",
        "print(a[10],\",dict is \",a)"
      ],
      "execution_count": 36,
      "outputs": [
        {
          "output_type": "stream",
          "name": "stdout",
          "text": [
            "Oct ,dict is  {1: 'Jan', 2: 'Feb', 'date': 'Mar', 10: 'Oct'}\n"
          ]
        }
      ]
    },
    {
      "cell_type": "markdown",
      "metadata": {
        "id": "0hpRI_JxIxm-"
      },
      "source": [
        "### Exercise 1] 1부터 10까지의 정수로 이루어진 리스트를 만들고 가장 작은 숫자와 가장 큰 숫자, 그리고 가장 작은 숫자 5개를 각각 출력하세요."
      ]
    },
    {
      "cell_type": "markdown",
      "metadata": {
        "id": "kDzjF3xhL89S"
      },
      "source": [
        "## 2.Loop/If"
      ]
    },
    {
      "cell_type": "code",
      "metadata": {
        "id": "WNkLFPykSHWg",
        "outputId": "35739822-847b-4c38-a830-e9efd479947c",
        "colab": {
          "base_uri": "https://localhost:8080/",
          "height": 0
        }
      },
      "source": [
        "a=1\n",
        "b=0\n",
        "\n",
        "print(a==b)\n",
        "print(a!=b)\n",
        "print(a>b)\n",
        "print(a>=b)\n",
        "\n",
        "if a==b:\n",
        "    print(\"a is equal to b\")\n",
        "elif a>b:\n",
        "    print(\"a is greater than b\")\n",
        "else:\n",
        "    print(\"Neither is corres\")"
      ],
      "execution_count": 39,
      "outputs": [
        {
          "output_type": "stream",
          "name": "stdout",
          "text": [
            "False\n",
            "True\n",
            "True\n",
            "True\n",
            "a is greater than b\n"
          ]
        }
      ]
    },
    {
      "cell_type": "code",
      "metadata": {
        "id": "rMNDAmyUSmga",
        "outputId": "b10fd892-303b-4ec2-b3ce-0d8ca58cb508",
        "colab": {
          "base_uri": "https://localhost:8080/"
        }
      },
      "source": [
        "a=1\n",
        "b=0\n",
        "c=2\n",
        "\n",
        "if a>b and b>c:\n",
        "    print(\"a is greater than b and b is greater than c\")\n",
        "elif a>b and b<c:\n",
        "    print(\"a is greater than b and c is greater than b\")\n",
        "\n",
        "if a>b or b>c:\n",
        "    print(\"a is greater than b or b is greater than c\")\n",
        "else:\n",
        "    print(\"Nau\")\n",
        "\n",
        "if not a<=b:\n",
        "    print(\"a is greater than b\")\n",
        "else:\n",
        "    print(\"Nau\")\n"
      ],
      "execution_count": 43,
      "outputs": [
        {
          "output_type": "stream",
          "name": "stdout",
          "text": [
            "a is greater than b and c is greater than b\n",
            "a is greater than b or b is greater than c\n",
            "a is greater than b\n"
          ]
        }
      ]
    },
    {
      "cell_type": "code",
      "metadata": {
        "colab": {
          "base_uri": "https://localhost:8080/"
        },
        "id": "S1UuUtDJL89S",
        "outputId": "02119d8f-a5f9-415e-8b30-53fd2dc2149d"
      },
      "source": [
        "for i in [1,2,3,4,5,129]:\n",
        "    print(i)"
      ],
      "execution_count": null,
      "outputs": [
        {
          "output_type": "stream",
          "name": "stdout",
          "text": [
            "1\n",
            "2\n",
            "3\n",
            "4\n",
            "5\n",
            "129\n"
          ]
        }
      ]
    },
    {
      "cell_type": "code",
      "metadata": {
        "colab": {
          "base_uri": "https://localhost:8080/"
        },
        "id": "a5LOKMOFL89S",
        "outputId": "f46a14d9-33fd-4b2d-d59e-a879860cab81"
      },
      "source": [
        "a=[0,1,2,3,4,5,6,7,8,9,10]\n",
        "for i in a[:8]:\n",
        "    print(i)"
      ],
      "execution_count": null,
      "outputs": [
        {
          "output_type": "stream",
          "name": "stdout",
          "text": [
            "0\n",
            "1\n",
            "2\n",
            "3\n",
            "4\n",
            "5\n",
            "6\n",
            "7\n"
          ]
        }
      ]
    },
    {
      "cell_type": "code",
      "metadata": {
        "colab": {
          "base_uri": "https://localhost:8080/"
        },
        "id": "L3TGnsT-L89T",
        "outputId": "27417491-2ade-499f-a6f0-b13f42b1b707"
      },
      "source": [
        "for i in range(10):\n",
        "    print(i)\n",
        "    if i>4:\n",
        "        break"
      ],
      "execution_count": 45,
      "outputs": [
        {
          "output_type": "stream",
          "name": "stdout",
          "text": [
            "0\n",
            "1\n",
            "2\n",
            "3\n",
            "4\n",
            "5\n"
          ]
        }
      ]
    },
    {
      "cell_type": "code",
      "metadata": {
        "colab": {
          "base_uri": "https://localhost:8080/"
        },
        "id": "-jHkGXCTTslD",
        "outputId": "0f5aefb1-cb5b-400f-e4e7-2b1981374a03"
      },
      "source": [
        "for i in range(3,100,10):\n",
        "    print(i)"
      ],
      "execution_count": 46,
      "outputs": [
        {
          "output_type": "stream",
          "name": "stdout",
          "text": [
            "3\n",
            "13\n",
            "23\n",
            "33\n",
            "43\n",
            "53\n",
            "63\n",
            "73\n",
            "83\n",
            "93\n"
          ]
        }
      ]
    },
    {
      "cell_type": "code",
      "metadata": {
        "colab": {
          "base_uri": "https://localhost:8080/"
        },
        "id": "wwiYRqafL89T",
        "outputId": "a6ab680c-da73-4094-fd43-82767517bf8d"
      },
      "source": [
        "a=0\n",
        "while(a<5):\n",
        "    print(a)\n",
        "    a+=1"
      ],
      "execution_count": 47,
      "outputs": [
        {
          "output_type": "stream",
          "name": "stdout",
          "text": [
            "0\n",
            "1\n",
            "2\n",
            "3\n",
            "4\n"
          ]
        }
      ]
    },
    {
      "cell_type": "code",
      "metadata": {
        "colab": {
          "base_uri": "https://localhost:8080/"
        },
        "id": "mdMqlDXgL89T",
        "outputId": "9684b5d3-f4b7-44d9-da3a-59de034b31da"
      },
      "source": [
        "a=0\n",
        "while(a<10):\n",
        "    print(a)\n",
        "    a+=1\n",
        "    if(a==7):\n",
        "        break"
      ],
      "execution_count": 48,
      "outputs": [
        {
          "output_type": "stream",
          "name": "stdout",
          "text": [
            "0\n",
            "1\n",
            "2\n",
            "3\n",
            "4\n",
            "5\n",
            "6\n"
          ]
        }
      ]
    },
    {
      "cell_type": "markdown",
      "metadata": {
        "id": "0wsfNmQ-L89T"
      },
      "source": [
        "### Exercise 2] 구구단 2단과 8단을 출력해 보세요"
      ]
    },
    {
      "cell_type": "code",
      "metadata": {
        "colab": {
          "base_uri": "https://localhost:8080/"
        },
        "id": "A-DWBDQJL89T",
        "outputId": "907fb2a7-9c64-46dd-b67b-8dc6af56af54"
      },
      "source": [
        "for i in range(1,10):\n",
        "    for j in [2,8]:\n",
        "        print(j,\"*\",i,\"=\",j*i,end=\"\\t\")\n",
        "    print()"
      ],
      "execution_count": 49,
      "outputs": [
        {
          "output_type": "stream",
          "name": "stdout",
          "text": [
            "2 * 1 = 2\t8 * 1 = 8\t\n",
            "2 * 2 = 4\t8 * 2 = 16\t\n",
            "2 * 3 = 6\t8 * 3 = 24\t\n",
            "2 * 4 = 8\t8 * 4 = 32\t\n",
            "2 * 5 = 10\t8 * 5 = 40\t\n",
            "2 * 6 = 12\t8 * 6 = 48\t\n",
            "2 * 7 = 14\t8 * 7 = 56\t\n",
            "2 * 8 = 16\t8 * 8 = 64\t\n",
            "2 * 9 = 18\t8 * 9 = 72\t\n"
          ]
        }
      ]
    },
    {
      "cell_type": "markdown",
      "metadata": {
        "id": "eokLoJuZUfzD"
      },
      "source": [
        "## 3. Input/Output"
      ]
    },
    {
      "cell_type": "code",
      "metadata": {
        "id": "VcPFDVIkL89U"
      },
      "source": [
        "f=open(\"text.txt\",\"w\")\n",
        "for i in range(1,10):\n",
        "    f.write(str(i))\n",
        "    f.write(\"\\t\")\n",
        "    f.write(str(i*10))\n",
        "    f.write(\"\\n\")\n",
        "f.close()"
      ],
      "execution_count": 58,
      "outputs": []
    },
    {
      "cell_type": "code",
      "metadata": {
        "colab": {
          "base_uri": "https://localhost:8080/"
        },
        "id": "bvzKVdUCkgvu",
        "outputId": "b80a3c3a-110a-4901-9ae3-3fd765ce8296"
      },
      "source": [
        "f=open(\"text.txt\")\n",
        "print(f.read())\n",
        "f.close()"
      ],
      "execution_count": 64,
      "outputs": [
        {
          "output_type": "stream",
          "name": "stdout",
          "text": [
            "1\t10\n",
            "2\t20\n",
            "3\t30\n",
            "4\t40\n",
            "5\t50\n",
            "6\t60\n",
            "7\t70\n",
            "8\t80\n",
            "9\t90\n",
            "\n"
          ]
        }
      ]
    },
    {
      "cell_type": "code",
      "metadata": {
        "colab": {
          "base_uri": "https://localhost:8080/"
        },
        "id": "BkrZFMtSkGBJ",
        "outputId": "1698997a-3a96-44ec-cdc2-79ab34662473"
      },
      "source": [
        "f=open(\"text.txt\")\n",
        "texts=f.readlines()\n",
        "print(texts)\n",
        "print(texts[0])\n",
        "f.close()"
      ],
      "execution_count": 66,
      "outputs": [
        {
          "output_type": "stream",
          "name": "stdout",
          "text": [
            "['1\\t10\\n', '2\\t20\\n', '3\\t30\\n', '4\\t40\\n', '5\\t50\\n', '6\\t60\\n', '7\\t70\\n', '8\\t80\\n', '9\\t90\\n']\n",
            "1\t10\n",
            "\n"
          ]
        }
      ]
    },
    {
      "cell_type": "code",
      "metadata": {
        "colab": {
          "base_uri": "https://localhost:8080/"
        },
        "id": "nWrDEcVzkn5o",
        "outputId": "d23eb9cc-9c2c-4e5a-89e9-28acd987c1c6"
      },
      "source": [
        "f=open(\"text.txt\")\n",
        "\n",
        "for line in f:\n",
        "    print(line,end='')\n",
        "f.close()"
      ],
      "execution_count": 68,
      "outputs": [
        {
          "output_type": "stream",
          "name": "stdout",
          "text": [
            "1\t10\n",
            "2\t20\n",
            "3\t30\n",
            "4\t40\n",
            "5\t50\n",
            "6\t60\n",
            "7\t70\n",
            "8\t80\n",
            "9\t90\n"
          ]
        }
      ]
    },
    {
      "cell_type": "code",
      "metadata": {
        "colab": {
          "base_uri": "https://localhost:8080/"
        },
        "id": "J1C07UCjL89U",
        "outputId": "563826c4-c95e-4583-f74b-9983e95819c1"
      },
      "source": [
        "with open(\"text.txt\") as f:\n",
        "    data=f.readlines()\n",
        "    for i in data:\n",
        "        print(i,end=\"\")"
      ],
      "execution_count": 69,
      "outputs": [
        {
          "output_type": "stream",
          "name": "stdout",
          "text": [
            "1\t10\n",
            "2\t20\n",
            "3\t30\n",
            "4\t40\n",
            "5\t50\n",
            "6\t60\n",
            "7\t70\n",
            "8\t80\n",
            "9\t90\n"
          ]
        }
      ]
    },
    {
      "cell_type": "code",
      "metadata": {
        "id": "auPjbpOTL89U",
        "colab": {
          "base_uri": "https://localhost:8080/"
        },
        "outputId": "4272fb85-33cf-491b-b5a5-e81e49b6e1c8"
      },
      "source": [
        "newline=data[0][:-1]\n",
        "print(newline)"
      ],
      "execution_count": 71,
      "outputs": [
        {
          "output_type": "stream",
          "name": "stdout",
          "text": [
            "1\t10\n"
          ]
        }
      ]
    },
    {
      "cell_type": "code",
      "metadata": {
        "colab": {
          "base_uri": "https://localhost:8080/"
        },
        "id": "Kawltk89L89Y",
        "outputId": "5627a0c5-fc26-4c3d-b7b8-2e08fa3b62d9"
      },
      "source": [
        "data_python={}\n",
        "for i in data:\n",
        "    strings=i.split()\n",
        "    data_python[int(strings[0])]=int(strings[-1])\n",
        "data_python"
      ],
      "execution_count": 78,
      "outputs": [
        {
          "output_type": "execute_result",
          "data": {
            "text/plain": [
              "{1: 10, 2: 20, 3: 30, 4: 40, 5: 50, 6: 60, 7: 70, 8: 80, 9: 90}"
            ]
          },
          "metadata": {},
          "execution_count": 78
        }
      ]
    },
    {
      "cell_type": "markdown",
      "metadata": {
        "id": "wF-K6noTL89Y"
      },
      "source": [
        "## 4. Function"
      ]
    },
    {
      "cell_type": "code",
      "metadata": {
        "colab": {
          "base_uri": "https://localhost:8080/"
        },
        "id": "aLJdPWLvL89Y",
        "outputId": "fc3cfd55-df0f-4565-ed38-ef2f9f65795d"
      },
      "source": [
        "def add(a,b):\n",
        "    return a+b\n",
        "\n",
        "a=1\n",
        "b=2\n",
        "print(a,\"+\",b,\"=\",add(a,b))\n",
        "\n",
        "value=add(a,b)\n",
        "print(a,\"+\",b,\"=\",value)\n"
      ],
      "execution_count": 56,
      "outputs": [
        {
          "output_type": "stream",
          "name": "stdout",
          "text": [
            "1 + 2 = 3\n",
            "1 + 2 = 3\n"
          ]
        }
      ]
    },
    {
      "cell_type": "code",
      "metadata": {
        "colab": {
          "base_uri": "https://localhost:8080/"
        },
        "id": "uSG7eNb2L89Y",
        "outputId": "9ba9b21b-39fd-4ed1-a52f-7779eba89e37"
      },
      "source": [
        "def add2(a,b):\n",
        "    print(a,\"+\",b,\"=\",a+b)\n",
        "    return None\n",
        "\n",
        "a=1\n",
        "b=2\n",
        "print(a,\"+\",b,\"=\",add2(a,b))\n",
        "\n",
        "value=add2(a,b)\n",
        "print(a,\"+\",b,\"=\",value)"
      ],
      "execution_count": 57,
      "outputs": [
        {
          "output_type": "stream",
          "name": "stdout",
          "text": [
            "1 + 2 = 3\n",
            "1 + 2 = None\n",
            "1 + 2 = 3\n",
            "1 + 2 = None\n"
          ]
        }
      ]
    },
    {
      "cell_type": "markdown",
      "metadata": {
        "id": "yepfI7Zsar2L"
      },
      "source": [
        "## 5. Import"
      ]
    },
    {
      "cell_type": "code",
      "metadata": {
        "id": "GXS7HxrsL89Y"
      },
      "source": [
        "import numpy as np\n",
        "import scipy as sp\n",
        "import matplotlib.pyplot as plt"
      ],
      "execution_count": 79,
      "outputs": []
    },
    {
      "cell_type": "code",
      "metadata": {
        "colab": {
          "base_uri": "https://localhost:8080/",
          "height": 282
        },
        "id": "mk59B5dRL89Y",
        "outputId": "95a2daf5-4c8e-4806-e5d0-1dc36ae6b961"
      },
      "source": [
        "plt.plot([1, 2, 8, 4])"
      ],
      "execution_count": 80,
      "outputs": [
        {
          "output_type": "execute_result",
          "data": {
            "text/plain": [
              "[<matplotlib.lines.Line2D at 0x7f8655b87a10>]"
            ]
          },
          "metadata": {},
          "execution_count": 80
        },
        {
          "output_type": "display_data",
          "data": {
            "image/png": "[encoded data removed]",
            "text/plain": [
              "<Figure size 432x288 with 1 Axes>"
            ]
          },
          "metadata": {
            "needs_background": "light"
          }
        }
      ]
    },
    {
      "cell_type": "code",
      "metadata": {
        "id": "2NCmzJ_QnR2_",
        "outputId": "84b7228d-8332-4be9-a5f3-dbb612932cb4",
        "colab": {
          "base_uri": "https://localhost:8080/",
          "height": 265
        }
      },
      "source": [
        "x=np.arange(0, 6, 0.1)\n",
        "y=np.sin(x)\n",
        "\n",
        "plt.plot(x,y)\n",
        "plt.show()"
      ],
      "execution_count": 84,
      "outputs": [
        {
          "output_type": "display_data",
          "data": {
            "image/png": "[encoded data removed]",
            "text/plain": [
              "<Figure size 432x288 with 1 Axes>"
            ]
          },
          "metadata": {
            "needs_background": "light"
          }
        }
      ]
    },
    {
      "cell_type": "code",
      "metadata": {
        "id": "REpJvJmbL89Y",
        "colab": {
          "base_uri": "https://localhost:8080/"
        },
        "outputId": "3d57156c-4755-493b-b4ef-efc59f7fbbc6"
      },
      "source": [
        "nsteps=1000\n",
        "rand_normal=np.random.normal(0,1,size=(3,nsteps))\n",
        "print(rand_normal.shape)"
      ],
      "execution_count": 96,
      "outputs": [
        {
          "output_type": "stream",
          "name": "stdout",
          "text": [
            "(3, 1000)\n"
          ]
        }
      ]
    },
    {
      "cell_type": "code",
      "metadata": {
        "colab": {
          "base_uri": "https://localhost:8080/",
          "height": 265
        },
        "id": "YTiemUj5sLI4",
        "outputId": "60475f0c-b5fe-47b1-f89c-88893bac0980"
      },
      "source": [
        "plt.plot(rand_normal[0,:20],rand_normal[1,:20], color='royalblue', linewidth=2, \\\n",
        "         marker='^', markersize=15, markeredgewidth=1, markeredgecolor='black', mfc='orange')\n",
        "plt.show()"
      ],
      "execution_count": 106,
      "outputs": [
        {
          "output_type": "display_data",
          "data": {
            "image/png": "[encoded data removed]",
            "text/plain": [
              "<Figure size 432x288 with 1 Axes>"
            ]
          },
          "metadata": {
            "needs_background": "light"
          }
        }
      ]
    },
    {
      "cell_type": "code",
      "metadata": {
        "colab": {
          "base_uri": "https://localhost:8080/",
          "height": 248
        },
        "id": "U0ZEyorIo0Jg",
        "outputId": "4d0a5d63-f19c-40ac-91c9-9ef5c6191ca4"
      },
      "source": [
        "fig=plt.figure()\n",
        "ax=fig.gca(projection='3d')\n",
        "ax.plot(rand_normal[0,:20],rand_normal[1,:20],rand_normal[2,:20])\n",
        "plt.show()"
      ],
      "execution_count": 97,
      "outputs": [
        {
          "output_type": "display_data",
          "data": {
            "image/png": "[encoded data removed]",
            "text/plain": [
              "<Figure size 432x288 with 1 Axes>"
            ]
          },
          "metadata": {
            "needs_background": "light"
          }
        }
      ]
    }
  ]
}